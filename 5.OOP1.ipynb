{
 "cells": [
  {
   "cell_type": "markdown",
   "id": "e2103f6a",
   "metadata": {},
   "source": [
    "# **Object Oriented Programming I**\n"
   ]
  },
  {
   "cell_type": "markdown",
   "id": "45b9d0d7",
   "metadata": {},
   "source": [
    "## **Introduction to Object Oriented Programming (OOP)**"
   ]
  },
  {
   "cell_type": "markdown",
   "id": "02a429db",
   "metadata": {},
   "source": [
    "- Pada umumnya pada bahasa pemrograman itu terdapat **paradigma**\n",
    "- Yang dimaksud dengan paradigma disini adalah cara berjalannya sebuah program dalam menjalankan sebuah proses\n",
    "- Pada umumnya, paradigma di Python itu terdapat dua jenis, yaitu:\n",
    "  - Functional Programming\n",
    "  - Object Oriented Programming (OOP)"
   ]
  },
  {
   "cell_type": "markdown",
   "id": "a5843bfe",
   "metadata": {},
   "source": [
    "---\n",
    "## Functional Programming"
   ]
  },
  {
   "cell_type": "markdown",
   "id": "cc57887f",
   "metadata": {},
   "source": [
    "- Kita sudah belajar atau sudah menggunakan tentang **Functional Programming** di pertemuan sebelumnya\n",
    "- Yang dimana itu semua pengolahan datanya ada di dalam bentuk fungsi dan untuk memakai nya atau untuk menyelesaikan sebuah task dengan fungsi tersebut kita harus memanggil fungsi yang spesifik\n",
    "- Contoh:\n",
    "  - Fungsi untuk menghitung luas segitiga"
   ]
  },
  {
   "cell_type": "code",
   "execution_count": null,
   "id": "784e535a",
   "metadata": {},
   "outputs": [
    {
     "name": "stdout",
     "output_type": "stream",
     "text": [
      "Luas segitiga nya adala 6.0\n"
     ]
    }
   ],
   "source": [
    "def luas_segitiga(alas,tinggi):\n",
    "    return 0.5*alas*tinggi\n",
    "\n",
    "alas = 4\n",
    "tinggi = 3\n",
    "luas = luas_segitiga(alas,tinggi)\n",
    "print(f\"Luas segitiga nya adalah {luas}\")"
   ]
  },
  {
   "cell_type": "markdown",
   "id": "7177388a",
   "metadata": {},
   "source": [
    "- Tetapi functional programming itu memiliki kelemahan, yaitu hanya bisa melakukan satu proses saja.\n",
    "- Bayangkan kalau kita sudah membuat program yang sudah besar dan kompleks, semisal di dalamnya terdapat ratusan proses. Maka akan cukup repot jika kita menggunakan functional programming\n",
    "- Oleh karena itu kita bisa menggunakan **Object Oriented Programming (OOP)**"
   ]
  },
  {
   "cell_type": "markdown",
   "id": "3c520822",
   "metadata": {},
   "source": [
    "---\n",
    "## Object Oriented Programming (OOP)\n"
   ]
  },
  {
   "cell_type": "markdown",
   "id": "ba843022",
   "metadata": {},
   "source": [
    "- Sebenarnya secara tidak langsung kita sudah menggunakan dan belajar beberapa konsep OOP di pertemuan sebelumnya!!\n",
    "- Sudah kita pelajari di:\n",
    "  - String, `.capitalize()`, `lower()`, dll\n",
    "  - List, `.append()`,` pop()`, dll\n",
    "  - dsb\n",
    "- Selain itu, tiap variabel yang kita buat adalah merupakan sebuah object, dan setiap object memiliki tipe\n",
    "- Kita sudah mengenal tipe-tipe data dalam python, beberapa diantaranya yaitu:\n",
    "  - integer (1234)\n",
    "  - float (3.14)\n",
    "  - string (\"Halo\")\n",
    "  - list ([1,2,3,4])\n",
    "  - dictionary ({\"warna\":\"kuning})  "
   ]
  },
  {
   "cell_type": "code",
   "execution_count": 12,
   "id": "00789ff1",
   "metadata": {},
   "outputs": [
    {
     "data": {
      "text/plain": [
       "int"
      ]
     },
     "execution_count": 12,
     "metadata": {},
     "output_type": "execute_result"
    }
   ],
   "source": [
    "num = 1\n",
    "type(num)"
   ]
  },
  {
   "cell_type": "markdown",
   "id": "ab818914",
   "metadata": {},
   "source": [
    "- Tiap objek dalam python memiliki:\n",
    "  - Tipe\n",
    "  - Representasi data internal (Primitive atau Composite)\n",
    "  - Function yang berguna untuk berinteraksi dengan data internal"
   ]
  },
  {
   "cell_type": "markdown",
   "id": "c3e3ab0d",
   "metadata": {},
   "source": [
    "---\n",
    "Dalam Python, kita dapat melakukan Object Oriented Programming (OOP) menggunakan prisip **class dan object (instance)**.\n",
    "\n",
    "- Class jika dianalogikan itu seperti blueprint. Class itu seperti kita mendeskripsikan sebuah benda atau objek.\n",
    "- Class juga memungkinkan kita untuk membuat tipe object baru, dimana kita bisa mengatur bagiamana data direpresentasikan dan membuat function yang bisa berinteraksi dengan data internal\n",
    "- Object (instance) merupakan objek yang dibuat berdasarkan class kita. Objek tersebut akan memiliki tipe sesuai nama class yang kita buat, dan memiliki attribut dan fungsi yang sama.\n",
    "- Object itu juga bisa dalam bentuk:\n",
    "  - Function\n",
    "  - Variable\n",
    "  - Class\n",
    "  - dll\n",
    "- Kita bisa merepresentasikan object itu sebagai **container atau wadah**. Contoh:\n",
    "  - Sebuah object (container) list itu mungkin bisa terdapat object data integer, float, string, dll\n",
    "  - Sebuah object (container) integer itu terdapat bilangan bulat\n",
    "  - dll"
   ]
  },
  {
   "cell_type": "markdown",
   "id": "a08d269a",
   "metadata": {},
   "source": [
    "---\n",
    "## Analogi di Dunia Nyata"
   ]
  },
  {
   "cell_type": "markdown",
   "id": "5af4783b",
   "metadata": {},
   "source": [
    "Mungkin penjelasan tadi sedikit membingungkan, maka disini akan diberikan analogi yang dimana harapannya akan mempermudah pemahaman kalian!\n",
    "\n",
    "Binatang peliharaan bisa kita ibaratkan sebagai objek dalam OOP. Binatang peliharaan memiliki beberapa attribut, diantaranya:\n",
    "- nama\n",
    "- jenis\n",
    "\n",
    "Selain itu, binatang peliharaan juga memiliki beberapa perilaku, seperti:\n",
    "- bermain\n",
    "- tidur\n",
    "\n",
    "Charlie merupakan anjing peliharaan, maka dari itu charlie adalah binatang peliharaan yang nilai attribut nama = \"charlie\", dan tipe = \"anjing\".\n",
    "Karena charlie adalah binatang peliharaan, maka charlie dapat diajak bermain dan pergi tidur.\n",
    "\n",
    "- Dari contoh diatas, kita dapat membuat class \"Pet\" dan object (instance) charlie.\n",
    "\n",
    "<img src=\"https://sekolahdata-assets.s3.ap-southeast-1.amazonaws.com/notebook-images/mds-python-indo/9-1-1.png\" alt=\"Drawing\" width= 600px;/>\n",
    "\n",
    "\n",
    "- Contoh binatang - binatang di atas tersebut akan dibungkus ke dalam satu paket atau class \"Pet\""
   ]
  },
  {
   "cell_type": "markdown",
   "id": "9f2fa66e",
   "metadata": {},
   "source": [
    "---\n",
    "## Why use Object Oriented Programming?"
   ]
  },
  {
   "cell_type": "markdown",
   "id": "cfdbcf95",
   "metadata": {},
   "source": [
    "- Untuk operasi yang sederhana, mungkin membuat objek akan terlalu rumit.\n",
    "- Namun, untuk membuat program dengan kode yang cukup banyak, hal ini akan memudahkan.\n",
    "- Karena dengan menggunakan OOP akan memudahkan untuk reuse code yang telah dibuat.\n",
    "- Selain itu alasan kenapa harus menggunakan konsep OOP adalah:\n",
    "  - Maintainability\n",
    "  - Reusability\n",
    "  - Scalability\n",
    "  \n",
    "[source](https://stackoverflow.com/a/6480752)\n",
    "\n",
    "---\n",
    "Contoh: (menghitung keliling dan luas bentuk 2D)\n",
    "\n",
    "- Jika kita menggunakan konsep functional programming, maka kita harus membuat berbagai macam fungsi:\n",
    "  - keliling_segitiga\n",
    "  - luas_segitiga\n",
    "  - keliling_persegi\n",
    "  - luas_persegi\n",
    "  - dst\n",
    "  \n",
    "- Atau hanya membuat 2 fungsi yaitu `keliling` dan `luas`, namun di dalamnya terdapat banyak kondisional untuk menyesuaikan bentuk. Yang dimana sudah kita pelajari di pertemuan sebelumnya\n",
    "- Namun dengan OOP, kita dapat mengelompokkan hal tersebut kedalam objek atau class yang berupa:\n",
    "  - Segitiga\n",
    "  - Lingkaran\n",
    "  - dll\n",
    "- Selain itu di setiap objek yang sudah dibuat memiliki kemampuan untuk menghitung keliling dan luasnya."
   ]
  },
  {
   "cell_type": "markdown",
   "id": "f07928da",
   "metadata": {},
   "source": [
    "---\n",
    "## Class"
   ]
  },
  {
   "cell_type": "markdown",
   "id": "74cdc2e7",
   "metadata": {},
   "source": [
    "* `class` di dalam Python adalah pondasi utama dalam OOP.\n",
    "* Dapat dibilang `class` merupakan **blueprint** dari objek di dalam Python.\n",
    "* Bentuk paling sederhana untuk pendefinisian `class` adalah:\n",
    "```python\n",
    "class <nama_class>\n",
    "    <proses>\n",
    "```"
   ]
  },
  {
   "cell_type": "code",
   "execution_count": 13,
   "id": "bede7e67",
   "metadata": {},
   "outputs": [],
   "source": [
    "class MyClass:\n",
    "    pass"
   ]
  },
  {
   "cell_type": "markdown",
   "id": "7f5100be",
   "metadata": {},
   "source": [
    "* Pada kode diatas diberikan kelas kosong yang bernama `MyClass`\n",
    "* Perlu diperhatikan bahwa penamaan kelas memakai huruf **kapital**\n",
    "* Hal ini akan berguna untuk membedakan antara fungsi dan kelas."
   ]
  },
  {
   "cell_type": "markdown",
   "id": "4fbad54a",
   "metadata": {},
   "source": [
    "---\n",
    "## Atribut"
   ]
  },
  {
   "cell_type": "markdown",
   "id": "e902e62b",
   "metadata": {},
   "source": [
    "- Secara garis besar, terdapat dua jenis atribut yaitu:\n",
    "  - Data\n",
    "  - Prosedur (methods)\n",
    "- Atribut hanya terikat di kelas - kelas yang dimana atribut tersebut di definisikan"
   ]
  },
  {
   "cell_type": "markdown",
   "id": "2f3599ec",
   "metadata": {},
   "source": [
    "### Atribut Data "
   ]
  },
  {
   "cell_type": "markdown",
   "id": "1a00f7dc",
   "metadata": {},
   "source": [
    "- Anggaplah bahwa data itu adalah suatu objek lain yang digunakan untuk membangun suatu kelas\n",
    "- Contoh:\n",
    "  - Kucing memiliki atribut data berupa nama, ras, umur, dan jenis kelamin\n",
    "  - Mahasiswa memiliki atribut data berupa nama, NIM, jurusan, tahun_masuk\n",
    "  - dll\n",
    "  \n",
    "Untuk membuat sebuah Atribut kita membutuhkan beberapa syntax atau method"
   ]
  },
  {
   "cell_type": "markdown",
   "id": "268681c6",
   "metadata": {},
   "source": [
    "---\n",
    "#### \\_\\_init__\n",
    "\n",
    "Untuk melakukan pendefinisian sebuah atribut kita bisa menggunakan syntax `__init__()`\n",
    "\n",
    "```python\n",
    "def __init__(self, nama_atribut):\n",
    "    <atribut>\n",
    "```\n",
    "\n",
    "Contoh:"
   ]
  },
  {
   "cell_type": "code",
   "execution_count": 14,
   "id": "3a8f50c6",
   "metadata": {},
   "outputs": [],
   "source": [
    "class Segitiga:\n",
    "    def __init__(self,alas,tinggi,tipe):\n",
    "        self.alas = alas\n",
    "        self.tinggi = tinggi\n",
    "        self.tipe = tipe"
   ]
  },
  {
   "cell_type": "markdown",
   "id": "65d85d5c",
   "metadata": {},
   "source": [
    "- `self` merupakan parameter pada method yang mereferensi ke diri sendiri. \n",
    "- Yang berarti adalah `self` berguna untuk membedakan nilai suatu objek dengan objek lainnya di dalam kelas yang sama."
   ]
  },
  {
   "cell_type": "markdown",
   "id": "acb7edf2",
   "metadata": {},
   "source": [
    "Kenapa harus memakai `self`?\n",
    "* Aturan dari Python.\n",
    "* Jika tidak memakai `self` akan menjadi atribut kelas."
   ]
  },
  {
   "cell_type": "markdown",
   "id": "3c8e98f4",
   "metadata": {},
   "source": [
    "---\n",
    "**Mini exercise**\n",
    "- Buatlah kelas 'Kucing' yang memiliki attribute sebagai berikut:\n",
    "  - Nama\n",
    "  - Warna\n",
    "  - Usia"
   ]
  },
  {
   "cell_type": "code",
   "execution_count": null,
   "id": "caa6c6c0",
   "metadata": {},
   "outputs": [],
   "source": [
    "class Kucing:\n",
    "    def __init__(self, nama, warna, usia):\n",
    "        self.nama = nama\n",
    "        self.warna = warna\n",
    "        self.usia = usia "
   ]
  },
  {
   "cell_type": "markdown",
   "id": "c3e33870",
   "metadata": {},
   "source": [
    "- Buatlah kelas yang bernama 'Mobil' yang memiliki attribute sebagai berikut:\n",
    "  - Merk\n",
    "  - Tipe Mesin"
   ]
  },
  {
   "cell_type": "code",
   "execution_count": 16,
   "id": "8bb660ba",
   "metadata": {},
   "outputs": [],
   "source": [
    "class Mobil:\n",
    "    def __init__(self, merk, tipe_mesin):\n",
    "        self.merk = merk\n",
    "        self.tipe_mesin = tipe_mesin"
   ]
  },
  {
   "cell_type": "markdown",
   "id": "20fed0a8",
   "metadata": {},
   "source": [
    "---\n",
    "## Instance"
   ]
  },
  {
   "cell_type": "markdown",
   "id": "3e983be5",
   "metadata": {},
   "source": [
    "- Instance adalah objek yang dimiliki oleh sebuah kelas yang telah dibuat\n",
    "- Untuk membuat sebuah instance dari `class` kita cukup memanggil method `__init__()` pada `class` yang sudah kita buat\n",
    "- `__init__()` akan menginisiasi objek kita sesuai dengan prosedur atau urutan yang kita buat di dalam method tersebut\n",
    "- Artinya adalah jika di dalam sebuah `class` memiliki instance variable dengan nama `luas` maka setiap instance dari kelas tersebut akan memiliki variable `luas`\n",
    "- Kita juga bisa memasukkan sebuah proses di dalam instance\n",
    "\n",
    "Contoh:"
   ]
  },
  {
   "cell_type": "markdown",
   "id": "1ecd6d62",
   "metadata": {},
   "source": [
    "![Pacman-Instance.jpg](data:image/jpeg;base64,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)"
   ]
  },
  {
   "cell_type": "markdown",
   "id": "ab9f5da1",
   "metadata": {},
   "source": [
    "Di dalam python, setiap variabel yang didefinisikan di dalam fungsi pada sebuah kelas (lewat variabel self), maka ia dikatakan instance variable."
   ]
  },
  {
   "cell_type": "code",
   "execution_count": 17,
   "id": "476f1e9d",
   "metadata": {},
   "outputs": [],
   "source": [
    "class MyClass:\n",
    "    def __init__(self, nama_barang):\n",
    "        self.nama_barang = nama_barang"
   ]
  },
  {
   "cell_type": "code",
   "execution_count": 18,
   "id": "0088b59c",
   "metadata": {},
   "outputs": [],
   "source": [
    "class Segitiga:\n",
    "    def __init__(self,alas,tinggi,tipe):\n",
    "        self.alas = alas\n",
    "        self.tinggi = tinggi\n",
    "        self.tipe = tipe\n",
    "        self.luas = 0.5 * alas * tinggi"
   ]
  },
  {
   "cell_type": "code",
   "execution_count": 19,
   "id": "00da8e57",
   "metadata": {},
   "outputs": [
    {
     "data": {
      "text/plain": [
       "__main__.Segitiga"
      ]
     },
     "execution_count": 19,
     "metadata": {},
     "output_type": "execute_result"
    }
   ],
   "source": [
    "instance_segitiga = Segitiga(6,6,\"siku\")\n",
    "type(instance_segitiga)"
   ]
  },
  {
   "cell_type": "code",
   "execution_count": 20,
   "id": "b757a01d",
   "metadata": {},
   "outputs": [
    {
     "data": {
      "text/plain": [
       "__main__.MyClass"
      ]
     },
     "execution_count": 20,
     "metadata": {},
     "output_type": "execute_result"
    }
   ],
   "source": [
    "barang = MyClass(\"Bakso\")\n",
    "type(barang)"
   ]
  },
  {
   "cell_type": "markdown",
   "id": "02553d58",
   "metadata": {},
   "source": [
    "Selain itu, kita juga bisa mengakses sebuah nilai attribute pada sebuah instance `class`. Kita dapat menambahkan `.` diikuti dengan nama attribute pada variable instance tersebut.\n",
    "\n",
    "Contoh:"
   ]
  },
  {
   "cell_type": "code",
   "execution_count": 21,
   "id": "f0c7f20e",
   "metadata": {},
   "outputs": [
    {
     "data": {
      "text/plain": [
       "6"
      ]
     },
     "execution_count": 21,
     "metadata": {},
     "output_type": "execute_result"
    }
   ],
   "source": [
    "instance_segitiga.alas"
   ]
  },
  {
   "cell_type": "code",
   "execution_count": 22,
   "id": "2ff50eac",
   "metadata": {},
   "outputs": [
    {
     "data": {
      "text/plain": [
       "'siku'"
      ]
     },
     "execution_count": 22,
     "metadata": {},
     "output_type": "execute_result"
    }
   ],
   "source": [
    "instance_segitiga.tipe"
   ]
  },
  {
   "cell_type": "code",
   "execution_count": 23,
   "id": "22ccbea1",
   "metadata": {},
   "outputs": [
    {
     "data": {
      "text/plain": [
       "'Bakso'"
      ]
     },
     "execution_count": 23,
     "metadata": {},
     "output_type": "execute_result"
    }
   ],
   "source": [
    "barang.nama_barang"
   ]
  },
  {
   "cell_type": "markdown",
   "id": "cea5673c",
   "metadata": {},
   "source": [
    "---\n",
    "#### self (lanjutan)\n",
    "* Pada materi sebelumnya dijelaskan bahwa `self` adalah parameter yang merujuk ke diri sendiri.\n",
    "* Maksudnya adalah `self` akan merujuk pada suatu nilai yang di-*assign* ke suatu *instance*/objek tertentu.\n",
    "\n",
    "Contoh:"
   ]
  },
  {
   "cell_type": "code",
   "execution_count": 24,
   "id": "0013cdb4",
   "metadata": {},
   "outputs": [],
   "source": [
    "class Segitiga:\n",
    "    def __init__(self,alas,tinggi,tipe):\n",
    "        self.alas = alas\n",
    "        self.tinggi = tinggi\n",
    "        self.tipe = tipe\n",
    "        self.luas = 0.5 * alas * tinggi"
   ]
  },
  {
   "cell_type": "markdown",
   "id": "225f433f",
   "metadata": {},
   "source": [
    "* Pertama akan dibuat instance `segitiga_1` yang memiliki `alas = 2`,`tinggi = 3`, dan `tipe = 'sama kaki'`"
   ]
  },
  {
   "cell_type": "code",
   "execution_count": 25,
   "id": "8cae5867",
   "metadata": {},
   "outputs": [],
   "source": [
    "segitiga_1 = Segitiga(alas=2, tinggi=3, tipe='sama kaki')"
   ]
  },
  {
   "cell_type": "code",
   "execution_count": 28,
   "id": "52b41ab1",
   "metadata": {},
   "outputs": [
    {
     "name": "stdout",
     "output_type": "stream",
     "text": [
      "9.0\n"
     ]
    }
   ],
   "source": [
    "def segitiga(a, t):\n",
    "    return 0.5*a*(t**2)\n",
    "\n",
    "segitiga1 = segitiga(2,3)\n",
    "print(segitiga1)\n"
   ]
  },
  {
   "cell_type": "code",
   "execution_count": 5,
   "id": "0b45d899",
   "metadata": {},
   "outputs": [
    {
     "name": "stdout",
     "output_type": "stream",
     "text": [
      "Fakhri menyerang Zombie dengan 20 damage! Sisa HP 30\n",
      "Fakhri menyerang Zombie dengan 40 damage! Sisa HP -10\n"
     ]
    }
   ],
   "source": [
    "class Player:\n",
    "    def __init__(self, name, health=100):\n",
    "        self.name = name\n",
    "        self.health = health\n",
    "    \n",
    "    def attack(self, enemy, damage):\n",
    "        enemy.health -= damage\n",
    "        print(f\"{self.name} menyerang {enemy.name} dengan {damage} damage! Sisa HP {enemy.health}\")\n",
    "\n",
    "class Enemy:\n",
    "    def __init__(self, name, health=50):\n",
    "        self.name = name\n",
    "        self.health = health\n",
    "\n",
    "# Pemakaian\n",
    "p1 = Player(\"Fakhri\")\n",
    "e1 = Enemy(\"Zombie\")\n",
    "\n",
    "p1.attack(e1, 20)\n",
    "p1.attack(e1, 40)\n"
   ]
  },
  {
   "cell_type": "markdown",
   "id": "75baecb1",
   "metadata": {},
   "source": [
    "---\n",
    "## Atribut Class vs Atribut Instance"
   ]
  },
  {
   "cell_type": "markdown",
   "id": "ad3d7c70",
   "metadata": {},
   "source": [
    "- Kalau teman - teman ingat di materi sebelumnya kita sudah membahas tentang tentang Attribute\n",
    "- Attribut yang didefinisikan di dalam method `__init__()` biasa disebut **atribute instace**.\n",
    "- Hal ini disebabkan nilai dari atribut tersebut akan **berbeda antara satu instance dengan instance lainnya**."
   ]
  },
  {
   "cell_type": "code",
   "execution_count": 3,
   "id": "6c4a0675",
   "metadata": {},
   "outputs": [],
   "source": [
    "class Segitiga:\n",
    "    def __init__(self,alas,tinggi,tipe):\n",
    "        self.alas = alas\n",
    "        self.tinggi = tinggi\n",
    "        self.tipe = tipe\n",
    "        self.luas = 0.5 * alas * tinggi"
   ]
  },
  {
   "cell_type": "code",
   "execution_count": 4,
   "id": "6fd65d1c",
   "metadata": {},
   "outputs": [
    {
     "name": "stdout",
     "output_type": "stream",
     "text": [
      "0.5 2.0\n"
     ]
    }
   ],
   "source": [
    "instance_1 = Segitiga(1,1,\"siku\")\n",
    "instance_2 = Segitiga(2,2,\"siku\")\n",
    "\n",
    "print(instance_1.luas, instance_2.luas)"
   ]
  },
  {
   "cell_type": "markdown",
   "id": "0688bc8c",
   "metadata": {},
   "source": [
    "- Nah, bagaimana kalau semisal aku ingin membuat `class` yang memiliki attribute yang sama nanti di semua instance nya??\n",
    "- Kita bisa membuat namanya **atribut kelas**, yait attribute yang **memiliki nilainya sama pada semua** instance kelas yang kita buat\n",
    "\n",
    "<img src=\"https://sekolahdata-assets.s3.ap-southeast-1.amazonaws.com/notebook-images/mds-python-indo/9-5-1.png\" alt=\"Drawing\" width= 600px;/>"
   ]
  },
  {
   "cell_type": "code",
   "execution_count": 7,
   "id": "a4a4dd80",
   "metadata": {},
   "outputs": [],
   "source": [
    "class Lingkaran:\n",
    "    atribut_kelas = 99\n",
    "\n",
    "    def __init__(self,radius):\n",
    "        self.radius = radius\n",
    "        self.luas = 3.14 * radius * radius"
   ]
  },
  {
   "cell_type": "markdown",
   "id": "b756d5e7",
   "metadata": {},
   "source": [
    "Di sini atribut_kelas jadi 'setara' dengan def() atau function pada sebuah kelas."
   ]
  },
  {
   "cell_type": "code",
   "execution_count": 8,
   "id": "6fd65c6f",
   "metadata": {},
   "outputs": [],
   "source": [
    "instance_lingkaran_1 = Lingkaran(7)\n",
    "instance_lingkaran_2 = Lingkaran(3)"
   ]
  },
  {
   "cell_type": "code",
   "execution_count": 9,
   "id": "ba6116e5",
   "metadata": {},
   "outputs": [
    {
     "data": {
      "text/plain": [
       "99"
      ]
     },
     "execution_count": 9,
     "metadata": {},
     "output_type": "execute_result"
    }
   ],
   "source": [
    "instance_lingkaran_1.atribut_kelas"
   ]
  },
  {
   "cell_type": "code",
   "execution_count": 10,
   "id": "9dbe0270",
   "metadata": {},
   "outputs": [
    {
     "data": {
      "text/plain": [
       "99"
      ]
     },
     "execution_count": 10,
     "metadata": {},
     "output_type": "execute_result"
    }
   ],
   "source": [
    "Lingkaran.atribut_kelas"
   ]
  },
  {
   "cell_type": "markdown",
   "id": "ec6dd845",
   "metadata": {},
   "source": [
    "* Atribut kelas dapat berubah menjadi atribut instance.\n",
    "* Hal ini terjadi ketika kita mengubah nilai dari atribut kelas melalui variable instance."
   ]
  },
  {
   "cell_type": "code",
   "execution_count": 11,
   "id": "99d8f6e6",
   "metadata": {},
   "outputs": [
    {
     "name": "stdout",
     "output_type": "stream",
     "text": [
      "5\n",
      "28\n",
      "28\n"
     ]
    }
   ],
   "source": [
    "# bermutasi menjadi atribut instance, memiliki nilai sendiri\n",
    "instance_lingkaran_1.atribut_kelas = 5\n",
    "\n",
    "# nilai baru diupdate pada semua objek yang masih memiliki atribut kelas ini\n",
    "Lingkaran.atribut_kelas = 28\n",
    "\n",
    "print(instance_lingkaran_1.atribut_kelas)\n",
    "print(instance_lingkaran_2.atribut_kelas)\n",
    "print(Lingkaran.atribut_kelas)"
   ]
  },
  {
   "cell_type": "markdown",
   "id": "22700f56",
   "metadata": {},
   "source": [
    "---\n",
    "## Method"
   ]
  },
  {
   "cell_type": "markdown",
   "id": "ad2fd307",
   "metadata": {},
   "source": [
    "- Method merupakan fungsi yang melekat pada sebuah objek atau instance kelas\n",
    "- Fungsi yang hanya dapat bekerja di dalam kelas\n",
    "- Melakukan manipulasi atau proses pada atribute data\n",
    "- Untuk cara pembuatannya masih sama ketika kita membuat fungsi di Python. Perbedaan nya hanya kita perlu menambahkan keyword `self`\n",
    "\n",
    "```python\n",
    "class <nama kelas>:\n",
    "    def <nama method>(<parameter method>):\n",
    "        <proses>\n",
    "```"
   ]
  },
  {
   "cell_type": "code",
   "execution_count": 17,
   "id": "75c95ef5",
   "metadata": {},
   "outputs": [
    {
     "name": "stdout",
     "output_type": "stream",
     "text": [
      "153.86\n"
     ]
    }
   ],
   "source": [
    "class Lingkaran:\n",
    "    PHI = 3.14\n",
    "    def __init__(self, radius):\n",
    "        self.radius = radius\n",
    "        self.diameter = 2*radius\n",
    "\n",
    "    def keliling(self):\n",
    "        keliling = self.PHI * self.diameter\n",
    "        return keliling\n",
    "    \n",
    "    def luas(self):\n",
    "        luas = self.PHI * self.radius ** 2\n",
    "        return luas\n",
    "\n",
    "lingkaran_1 = Lingkaran(7)\n",
    "print(lingkaran_1.luas())"
   ]
  },
  {
   "cell_type": "markdown",
   "id": "3fdc2843",
   "metadata": {},
   "source": [
    "Selain itu kita juga bisa mengimplementasikan apa saja yang sudah kita pelajari dari materi - materi sebelumnya, seperti:\n",
    "- Composite Data Structure\n",
    "- Looping\n",
    "- Branching\n",
    "- dll"
   ]
  },
  {
   "cell_type": "code",
   "execution_count": 19,
   "id": "14b8304e",
   "metadata": {},
   "outputs": [
    {
     "data": {
      "text/plain": [
       "[2, 4]"
      ]
     },
     "execution_count": 19,
     "metadata": {},
     "output_type": "execute_result"
    }
   ],
   "source": [
    "class List_Angka:\n",
    "    def __init__(self, number_list):\n",
    "        self.number_list = number_list\n",
    "        \n",
    "    def filter_even_number(self):\n",
    "        even = []\n",
    "        for num in self.number_list:\n",
    "            if num % 2 == 0:\n",
    "                even.append(num)                \n",
    "        return even\n",
    "    \n",
    "genap = List_Angka([1,2,3,4,5])\n",
    "\n",
    "genap.filter_even_number()"
   ]
  },
  {
   "cell_type": "markdown",
   "id": "6fc08ec9",
   "metadata": {},
   "source": [
    "- Special methods biasanya digunakan untuk mempermudah integrasi antara class dengan fungsi dasar Python yang lain\n",
    "- Special Method selalu didahulu dan diikut oleh garis bawah ganda `(__)` (dunder)\n",
    "- Cara kerja dari Special Method ini itu tergantung dari Special Method yang kita pakai.\n",
    "- Untuk Special Method di Python itu ada banyak, jika tertarik bisa baca link berikut: https://docs.python.org/3/reference/datamodel.html#special-method-names"
   ]
  },
  {
   "cell_type": "markdown",
   "id": "6cc6c1f9",
   "metadata": {},
   "source": [
    "Berikut merupakan **special method** yang sering digunakan sebagai operasi aritmatika.\n",
    "\n",
    "| Operator                        | Simbol | Contoh penulisan di Python | Keluaran|\n",
    "|---------------------------------|--------|--------|---------|\n",
    "| Pertambahan                     | +      |```__add__(self, other)```   | ```x + y invokes x.__add__(y)```       |\n",
    "| Pengurangan                     | -      |```__sub__(self, other)```   | ```x - y invokes x.__sub__(y)```       |\n",
    "| Perkalian                       | *      |```__mul__(self, other)```   | ```x * y invokes x.__mul__(y)```       |\n",
    "| Pembagian                       | /      |```__truediv__(self, other)```   | ```x / y invokes x.__truediv__(y)```       |\n",
    "| Pangkat                  | **     |```__pow__(self, other)```  | ```x ** y invokes x.__pow__(y)```       |\n"
   ]
  },
  {
   "cell_type": "code",
   "execution_count": 20,
   "id": "7b21c0e2",
   "metadata": {},
   "outputs": [],
   "source": [
    "class Angka:\n",
    "    def __init__(self, angka):\n",
    "        self.angka = angka\n",
    "\n",
    "    def __add__(self, objek):\n",
    "        return self.angka + objek.angka"
   ]
  },
  {
   "cell_type": "markdown",
   "id": "cc90e724",
   "metadata": {},
   "source": [
    "- Melakukan operasi penjumlahan menggunakan `+`\n",
    "- Parameter input self dan other, other merupakan instace lain dari class yang sama\n",
    "- Mengembalikan instance baru hasil penjumlahan"
   ]
  },
  {
   "cell_type": "code",
   "execution_count": 21,
   "id": "cfeb2c5b",
   "metadata": {},
   "outputs": [
    {
     "name": "stdout",
     "output_type": "stream",
     "text": [
      "30\n",
      "30\n"
     ]
    }
   ],
   "source": [
    "angka_1 = Angka(10)\n",
    "angka_2 = Angka(20)\n",
    "\n",
    "print(angka_1 + angka_2)\n",
    "print(angka_1.__add__(angka_2))"
   ]
  },
  {
   "cell_type": "markdown",
   "id": "b49057d2",
   "metadata": {},
   "source": [
    "## Recap"
   ]
  },
  {
   "cell_type": "markdown",
   "id": "d1ea86e6",
   "metadata": {},
   "source": [
    "![Pacman-Object.jpg](data:image/jpeg;base64,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)"
   ]
  },
  {
   "cell_type": "markdown",
   "id": "245bc35a",
   "metadata": {},
   "source": [
    "Sebuah objek pada dasarnya adalah anggota suatu **class**. Mempertimbangkan contoh class di atas, setiap siswa adalah objek dari kelas Siswa. Sebagai contoh Andi adalah objek dari kelas Siswa.\n",
    "* Class merupakan package/paket untuk menyimpan semua atribut, variabel, dan fungsi yang telah dibuat.\n",
    "* Atribut merupakan data/objek yang dimiliki oleh **class** untuk digunakan ataupun diolah oleh fungsi yang dimiliki class\n",
    "* Method merupakan fungsi yang mengatur perilaku/perintah interaksi antar objek yang telah dibuat."
   ]
  }
 ],
 "metadata": {
  "kernelspec": {
   "display_name": "base",
   "language": "python",
   "name": "python3"
  },
  "language_info": {
   "codemirror_mode": {
    "name": "ipython",
    "version": 3
   },
   "file_extension": ".py",
   "mimetype": "text/x-python",
   "name": "python",
   "nbconvert_exporter": "python",
   "pygments_lexer": "ipython3",
   "version": "3.12.4"
  }
 },
 "nbformat": 4,
 "nbformat_minor": 5
}
