{
 "cells": [
  {
   "cell_type": "markdown",
   "id": "9beb629e",
   "metadata": {},
   "source": []
  },
  {
   "cell_type": "code",
   "execution_count": 8,
   "id": "f2f673b7",
   "metadata": {},
   "outputs": [
    {
     "name": "stdout",
     "output_type": "stream",
     "text": [
      "6.62\n"
     ]
    }
   ],
   "source": [
    "case  = \"50%\"\n",
    "\n",
    "case = float(case.replace(\"%\", \"\"))\n",
    "\n",
    "case = round(case * 0.1323,2)\n",
    "\n",
    "print(case)"
   ]
  },
  {
   "cell_type": "code",
   "execution_count": 19,
   "id": "b5058a64",
   "metadata": {},
   "outputs": [
    {
     "name": "stdout",
     "output_type": "stream",
     "text": [
      "12\n",
      "HIDUP JOKIWI\n",
      "hidup jokiwi\n",
      "3\n",
      "3\n",
      "Hidup Jokiwi\n",
      "Hidup jokiwi\n",
      "Hidup Jokiwi\n",
      "iwikoJ PudiH\n",
      "Iwikoj pudih\n"
     ]
    }
   ],
   "source": [
    "text = \"HiduP Jokiwi\"\n",
    "\n",
    "print(len(text))\n",
    "print(text.upper())\n",
    "print(text.lower())\n",
    "print(text.count(\"i\"))\n",
    "print(text.find(\"u\"))\n",
    "print(text.replace(\"P\", \"p\"))\n",
    "print(text.capitalize())\n",
    "print(text.title())\n",
    "\n",
    "print(text[::-1])\n",
    "\n",
    "print(text[::-1].capitalize())"
   ]
  }
 ],
 "metadata": {
  "kernelspec": {
   "display_name": "base",
   "language": "python",
   "name": "python3"
  },
  "language_info": {
   "codemirror_mode": {
    "name": "ipython",
    "version": 3
   },
   "file_extension": ".py",
   "mimetype": "text/x-python",
   "name": "python",
   "nbconvert_exporter": "python",
   "pygments_lexer": "ipython3",
   "version": "3.12.4"
  }
 },
 "nbformat": 4,
 "nbformat_minor": 5
}
