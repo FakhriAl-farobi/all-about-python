{
  "nbformat": 4,
  "nbformat_minor": 0,
  "metadata": {
    "colab": {
      "provenance": [],
      "collapsed_sections": [
        "k4eGrW17WXrF"
      ]
    },
    "kernelspec": {
      "name": "python3",
      "display_name": "Python 3"
    },
    "language_info": {
      "name": "python"
    }
  },
  "cells": [
    {
      "cell_type": "markdown",
      "source": [
        "#BMI Health Risk Identification"
      ],
      "metadata": {
        "id": "XdzfTzkdUwp4"
      }
    },
    {
      "cell_type": "markdown",
      "source": [
        "## Description\n",
        "You are tasked with writing a function that takes a list of Body Mass Index (BMI) values and identifies the number of people who are overweight and underweight. The function should return a dictionary with the counts of these categories.\n",
        "\n",
        "A person is categorized as:\n",
        "\n",
        "Overweight if BMI > 25\n",
        "Underweight if BMI < 18.5\n",
        "Your function should return a dictionary with the format:\n",
        "\n",
        "{\n",
        "    'Overweight': <count>,\n",
        "    'Underweight': <count>\n",
        "}\n",
        "\n",
        "## Instructions\n",
        "1. Define a function identify_health_risks that takes a list of BMI values as input.\n",
        "2. Create a dictionary to store the count of overweight and underweight individuals.\n",
        "3. Loop through the BMI values and update the dictionary based on the given conditions.\n",
        "4. Return the dictionary.\n",
        "5. Print the result.\n",
        "\n",
        "\n",
        "## Test Cases\n",
        "###Input - 1\n",
        "\n",
        "`bmi_values = [25, 30, 18.5, 28, 21]`\n",
        "\n",
        "`result = identify_health_risks(bmi_values)\n",
        "print(result)`\n",
        "\n",
        "###Expected Output - 1\n",
        "\n",
        "`{'Overweight': 2, 'Underweight': 0}`"
      ],
      "metadata": {
        "id": "NT51tO6AXsLd"
      }
    },
    {
      "cell_type": "code",
      "execution_count": 1,
      "metadata": {
        "colab": {
          "base_uri": "https://localhost:8080/"
        },
        "id": "UxXtVr8yXSdf",
        "outputId": "1304c70b-6c23-4d46-c28e-02baa775baa0"
      },
      "outputs": [
        {
          "output_type": "stream",
          "name": "stdout",
          "text": [
            "{'Overweight': 2, 'Underweight': 2}\n"
          ]
        }
      ],
      "source": [
        "# Your code here\n",
        "def identify_health_risks(bmi_values):\n",
        "    status = {\"Overweight\": 0,\n",
        "        \"Underweight\": 0}\n",
        "    for i in range(len (bmi_values)):\n",
        "        if bmi_values[i] > 25:\n",
        "            status[\"Overweight\"] += 1\n",
        "        elif bmi_values[i] < 18.5:\n",
        "            status[\"Underweight\"] += 1\n",
        "        else:\n",
        "            pass\n",
        "    return status\n",
        "\n",
        "\n",
        "# Input\n",
        "bmi_values = [16, 17.75, 24, 26, 32]\n",
        "result = identify_health_risks(bmi_values)\n",
        "print(result)"
      ]
    },
    {
      "cell_type": "code",
      "source": [
        "def identify_health_risks(bmi_values):\n",
        "  return {\"Overweight\": sum(1 for i in bmi_values if i > 25),\n",
        "          \"Underweight\": sum(1 for i in bmi_values if i < 18.5)\n",
        "        }\n",
        "\n",
        "# Input\n",
        "bmi_values = [16, 17.75, 24, 26, 32]\n",
        "result = identify_health_risks(bmi_values)\n",
        "print(result)"
      ],
      "metadata": {
        "colab": {
          "base_uri": "https://localhost:8080/"
        },
        "id": "oqIJRZFMlH6J",
        "outputId": "51ab68dc-df6a-4b4e-bb67-a4388d8c0bb0"
      },
      "execution_count": 26,
      "outputs": [
        {
          "output_type": "stream",
          "name": "stdout",
          "text": [
            "{'Overweight': 2, 'Underweight': 2}\n"
          ]
        }
      ]
    },
    {
      "cell_type": "markdown",
      "source": [
        "#Feature Normalization"
      ],
      "metadata": {
        "id": "GTmTBLgqU0OV"
      }
    },
    {
      "cell_type": "markdown",
      "source": [
        "##Description\n",
        "You are tasked with writing a function that normalizes a list of numerical values using min-max scaling. This technique transforms the data so that all values fall within the range [0, 1].\n",
        "\n",
        "The normalization formula is:\n",
        "\n",
        "![image.png](data:image/png;base64,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)\n",
        "\n",
        "where:\n",
        "\n",
        "1. X is the original value\n",
        "2. Min is the minimum value in the dataset\n",
        "3. Max is the maximum value in the dataset\n",
        "4. Your function should return a list of normalized values rounded to three decimal places.\n",
        "\n",
        "\n",
        "##Instructions\n",
        "1. Define a function normalize_features that takes a list of numerical values as input.\n",
        "2. Find the minimum and maximum values in the list.\n",
        "3. Apply the min-max normalization formula to each element.\n",
        "4. Return a list of normalized values rounded to three decimal places.\n",
        "5. Print the result.\n",
        "\n",
        "##Test Cases\n",
        "###Input - 1\n",
        "\n",
        "`house_features = [1023, 1423, 1184, 2020, 1514]`\n",
        "\n",
        "`result = normalize_features(house_features)`\n",
        "\n",
        "`print(result)`\n",
        "\n",
        "###Expected Output - 1\n",
        "\n",
        "`[0.0, 0.401, 0.161, 1.0, 0.492]`"
      ],
      "metadata": {
        "id": "Dcj6M1WqZHPD"
      }
    },
    {
      "cell_type": "code",
      "source": [
        "import numpy as np\n",
        "def normalize_features(house_features):\n",
        "  return np.round((house_features - np.min(house_features)) / (np.max(house_features) - np.min(house_features)), 3).tolist()\n",
        "\n",
        "# Input\n",
        "house_features = [1023, 1423, 1184, 2020, 1514]\n",
        "output = normalize_features(house_features)\n",
        "print(output)"
      ],
      "metadata": {
        "colab": {
          "base_uri": "https://localhost:8080/"
        },
        "id": "FrtsyvgIbcKP",
        "outputId": "6ac0dd62-76e9-4c5b-c1bd-57fc5c1b6585"
      },
      "execution_count": 6,
      "outputs": [
        {
          "output_type": "stream",
          "name": "stdout",
          "text": [
            "[0.0, 0.401, 0.161, 1.0, 0.492]\n"
          ]
        }
      ]
    },
    {
      "cell_type": "markdown",
      "source": [
        "#Sales Metrics Calculation"
      ],
      "metadata": {
        "id": "Bx0VB4JOU47u"
      }
    },
    {
      "cell_type": "markdown",
      "source": [
        "##Description\n",
        "You are tasked with writing a function that calculates key sales metrics from a given list of sales data. Each entry in the sales data contains:\n",
        "\n",
        "`units_sold`: The number of units sold.\n",
        "\n",
        "`revenue`: The total revenue generated from those units.\n",
        "\n",
        "The function should compute and return:\n",
        "\n",
        "1. Total Units Sold: The sum of all units sold.\n",
        "2. Total Revenue: The sum of all revenue values.\n",
        "3. Average Revenue per Unit: The total revenue divided by total units sold, rounded to one decimal place. If no units were sold, return 0.0.\n",
        "\n",
        "##Instructions\n",
        "1. Define a function calculate_sales_metrics that takes a list of sales data as input.\n",
        "2. Calculate the total units sold and total revenue.\n",
        "3. Compute the average revenue per unit.\n",
        "4. Return the results in a dictionary format.\n",
        "5. Print the result.\n",
        "\n",
        "##Test Cases\n",
        "###Input - 1\n",
        "\n",
        "`sales_data = [\n",
        "    {'units_sold': 100, 'revenue': 1000.0},\n",
        "    {'units_sold': 200, 'revenue': 2000.0},\n",
        "    {'units_sold': 150, 'revenue': 1500.0}\n",
        "]`\n",
        "\n",
        "`result = calculate_sales_metrics(sales_data)\n",
        "print(result)`\n",
        "\n",
        "###Expected Output - 1\n",
        "\n",
        "`{'total_units_sold': 450, 'total_revenue': 4500.0, 'average_revenue_per_unit': 10.0}`"
      ],
      "metadata": {
        "id": "vuQRl5ExeGmv"
      }
    },
    {
      "cell_type": "code",
      "source": [
        "import numpy as np\n",
        "def calculate_sales_metrics(sales_data):\n",
        "  return {'total_units_sold': sum(i['units_sold'] for i in sales_data),\n",
        "          'total_revenue': sum(i[\"revenue\"] for i in sales_data),\n",
        "          'average_revenue_per_unit': sum(i[\"revenue\"] for i in sales_data) / sum(i['units_sold'] for i in sales_data) if sum(i['units_sold'] for i in sales_data) !=0 else 0\n",
        "  }\n",
        "# Input\n",
        "sales_data = [\n",
        "    {'units_sold': 100, 'revenue': 1000.0},\n",
        "    {'units_sold': 200, 'revenue': 2000.0},\n",
        "    {'units_sold': 150, 'revenue': 1500.0}\n",
        "]\n",
        "result = calculate_sales_metrics(sales_data)\n",
        "print(result)"
      ],
      "metadata": {
        "colab": {
          "base_uri": "https://localhost:8080/"
        },
        "id": "L8GPL-9Netw3",
        "outputId": "9ca166c0-ebd9-4cdd-e970-2571eebca31c"
      },
      "execution_count": 24,
      "outputs": [
        {
          "output_type": "stream",
          "name": "stdout",
          "text": [
            "{'total_units_sold': 450, 'total_revenue': 4500.0, 'average_revenue_per_unit': 10.0}\n"
          ]
        }
      ]
    },
    {
      "cell_type": "markdown",
      "source": [
        "#Stock Price Change Identification"
      ],
      "metadata": {
        "id": "GkeL4UzbWcNB"
      }
    },
    {
      "cell_type": "markdown",
      "source": [
        "##Description\n",
        "You are tasked with writing a function that identifies significant changes in stock prices based on a given threshold percentage. The function should return a list of days where the percentage change exceeds the threshold.\n",
        "\n",
        "The percentage change is calculated as:\n",
        "\n",
        "$ \\text{Persentage Change} = \\frac{\\text{Current Price} - \\text{Previoues Price}}{Previoues Price} × 100$.\n",
        "\n",
        "\n",
        "A significant change occurs if the absolute percentage change is greater than the given threshold.\n",
        "\n",
        "\n",
        "##Instructions\n",
        "1. Define a function identify_price_changes that takes a list of stock prices and a threshold percentage.\n",
        "2. Iterate through the list and calculate the percentage change for each day (starting from the second day).\n",
        "3. Identify days where the absolute percentage change exceeds the threshold.\n",
        "4. Return a list of day labels where significant changes occur (e.g., 'Day 2', 'Day 4').\n",
        "5. Print the result.\n",
        "\n",
        "##Test Cases\n",
        "###Input - 1\n",
        "\n",
        "`stock_prices = [150, 155, 152, 145, 140, 137]`\n",
        "\n",
        "`threshold = 3`\n",
        "\n",
        "`result = identify_price_changes(stock_prices, threshold)`\n",
        "\n",
        "`print(result)`\n",
        "\n",
        "###Expected Output - 1\n",
        "\n",
        "`['Day 2', 'Day 4', 'Day 5']`"
      ],
      "metadata": {
        "id": "DfYrk36GkQo-"
      }
    },
    {
      "cell_type": "code",
      "source": [
        "# Your code here\n",
        "def identify_price_changes(stock_prices, threshold):\n",
        "    days = list()\n",
        "    for i in range(len(stock_prices)-1):\n",
        "        percentage_change = abs((stock_prices[i+1] - stock_prices[i])/stock_prices[i]) * 100\n",
        "        if percentage_change > threshold:\n",
        "            days.append(f\"Day {i+2}\")\n",
        "        else:\n",
        "            pass\n",
        "    return days\n",
        "\n",
        "\n",
        "# Input\n",
        "stock_prices = [150, 155, 152, 145, 140, 137]\n",
        "threshold = 3\n",
        "result = identify_price_changes(stock_prices, threshold)\n",
        "print(result)"
      ],
      "metadata": {
        "colab": {
          "base_uri": "https://localhost:8080/"
        },
        "id": "KGvbBdB8n9YW",
        "outputId": "a3e11f9d-bd91-4910-bf63-93eb6c98c885"
      },
      "execution_count": 39,
      "outputs": [
        {
          "output_type": "stream",
          "name": "stdout",
          "text": [
            "['Day 2', 'Day 4', 'Day 5']\n"
          ]
        }
      ]
    },
    {
      "cell_type": "markdown",
      "source": [
        "#Standard Deviation Calculation"
      ],
      "metadata": {
        "id": "k4eGrW17WXrF"
      }
    },
    {
      "cell_type": "markdown",
      "source": [
        "##Description\n",
        "You are tasked with writing a function that calculates the standard deviation of a given list of numerical feedback scores. The standard deviation measures the spread of data relative to its mean using the formula:\n",
        "\n",
        "![image.png](data:image/png;base64,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)\n",
        "\n",
        "\n",
        "where:\n",
        "\n",
        "( X_i ) is each individual score\n",
        "\n",
        "( \\mu ) is the mean of the scores\n",
        "\n",
        "( N ) is the number of scores\n",
        "\n",
        "Your function should return the standard deviation rounded to two decimal places.\n",
        "\n",
        "\n",
        "##Instructions\n",
        "1. Define a function calculate_std_deviation that takes a list of feedback scores as input.\n",
        "2. Calculate the mean of the list.\n",
        "3. Compute the variance by summing the squared differences between each score and the mean, divided by the total number of scores.\n",
        "4. Take the square root of the variance to obtain the standard deviation.\n",
        "5. Round the result to two decimal places and return it.\n",
        "6. Print the result.\n",
        "\n",
        "##Test Cases\n",
        "###Input - 1\n",
        "\n",
        "`feedback_scores = [5, 6, 6, 7, 5, 4, 6]`\n",
        "`result = calculate_std_deviation(feedback_scores)`\n",
        "`print(result)`\n",
        "###Expected Output - 1\n",
        "\n",
        "`0.9`"
      ],
      "metadata": {
        "id": "D_E_CX5UhODC"
      }
    },
    {
      "cell_type": "code",
      "source": [
        "import numpy as np\n",
        "def calculate_std_deviation(feedback_scores):\n",
        "  return np.round(np.std(feedback_scores), 2)\n",
        "\n",
        "# Input\n",
        "feedback_scores = [10, 20, 30, 40, 50]\n",
        "result = calculate_std_deviation(feedback_scores)\n",
        "print(result)"
      ],
      "metadata": {
        "colab": {
          "base_uri": "https://localhost:8080/"
        },
        "id": "b8L92Irlpzk3",
        "outputId": "47e7cbe0-b2c5-4ff5-efc0-c32a6677d0cb"
      },
      "execution_count": 41,
      "outputs": [
        {
          "output_type": "stream",
          "name": "stdout",
          "text": [
            "14.14\n"
          ]
        }
      ]
    },
    {
      "cell_type": "markdown",
      "source": [
        "#Invalid Data Type Checker"
      ],
      "metadata": {
        "id": "TSG919aTWQ8G"
      }
    },
    {
      "cell_type": "markdown",
      "source": [
        "##Description\n",
        "You are tasked with writing a function that checks whether the data types of values in a dataset match their expected types. The function should return a list of keys where at least one value in the dataset does not match the expected data type.\n",
        "\n",
        "The function should:\n",
        "\n",
        "1. Iterate through each dictionary (record) in the dataset.\n",
        "2. Compare each field’s data type with the expected type.\n",
        "3. Collect and return a list of keys where mismatches occur (duplicates should be avoided).\n",
        "\n",
        "Instructions\n",
        "1. Define a function check_invalid_data_types that takes a list of dictionaries (dataset) and a dictionary of expected data types (expected_types).\n",
        "2. Iterate through the dataset and check whether each field matches the expected type.\n",
        "3. If a mismatch is found, add the field name to the result list (avoid duplicates).\n",
        "4. Return the list of fields with invalid data types.\n",
        "Print the result.\n",
        "\n",
        "##Test Cases\n",
        "###Input - 1\n",
        "\n",
        "`dataset = [\n",
        "    {\"id\": 1, \"name\": \"David\", \"age\": 28, \"email\": \"david@example.com\"},\n",
        "    {\"id\": 2, \"name\": \"Emma\", \"age\": 34, \"email\": \"emma@example.com\"}\n",
        "]`\n",
        "\n",
        "`expected_types = {\n",
        "    \"id\": int,\n",
        "    \"name\": str,\n",
        "    \"age\": int,\n",
        "    \"email\": str\n",
        "}`\n",
        "\n",
        "`result = check_invalid_data_types(dataset, expected_types)`\n",
        "\n",
        "`print(result)`\n",
        "\n",
        "###Expected Output - 1\n",
        "\n",
        "[]\n",
        "###Input - 2\n",
        "\n",
        "`dataset = [\n",
        "    {\"id\": \"1\", \"name\": \"Alice\", \"age\": \"25\", \"email\": 12345},\n",
        "    {\"id\": 2, \"name\": \"Bob\", \"age\": 30, \"email\": \"bob@example.com\"}\n",
        "]`\n",
        "\n",
        "`expected_types = {\n",
        "    \"id\": int,\n",
        "    \"name\": str,\n",
        "    \"age\": int,\n",
        "    \"email\": str\n",
        "}`\n",
        "\n",
        "`result = check_invalid_data_types(dataset, expected_types)`\n",
        "\n",
        "`print(result)`\n",
        "\n",
        "###Expected Output - 2\n",
        "\n",
        "`[\"id\", \"age\", \"email\"]`"
      ],
      "metadata": {
        "id": "z3UI1j1ohfVZ"
      }
    },
    {
      "cell_type": "code",
      "source": [
        "def check_invalid_data_types(dataset, expected_types):\n",
        "    return list({\n",
        "        key\n",
        "        for record in dataset\n",
        "        for key, value in record.items()\n",
        "        if not isinstance(value, expected_types[key])\n",
        "    })\n",
        "\n",
        "#Input\n",
        "dataset = [\n",
        "    {\"id\": 1, \"name\": \"David\", \"age\": 28, \"email\": \"david@example.com\"},\n",
        "    {\"id\": 2, \"name\": \"Emma\", \"age\": 34, \"email\": \"emma@example.com\"}\n",
        "]\n",
        "expected_types = {\n",
        "    \"id\": int,\n",
        "    \"name\": str,\n",
        "    \"age\": int,\n",
        "    \"email\": str\n",
        "}\n",
        "result = check_invalid_data_types(dataset, expected_types)\n",
        "print(result)"
      ],
      "metadata": {
        "id": "leJLeHymsMis"
      },
      "execution_count": null,
      "outputs": []
    },
    {
      "cell_type": "markdown",
      "source": [
        "#Sensor Anomaly Detection\n"
      ],
      "metadata": {
        "id": "08ukxvCVWkZB"
      }
    },
    {
      "cell_type": "markdown",
      "source": [
        "##Description\n",
        "You are tasked with writing a function that detects anomalies in sensor data. Each sensor records multiple temperature readings, and a sensor is considered anomalous if any of its recorded temperatures exceed a given threshold.\n",
        "\n",
        "The function should:\n",
        "\n",
        "1. Iterate through each sensor in the dataset.\n",
        "2. Check if any temperature reading exceeds the given threshold.\n",
        "3. Return a list of sensor IDs that have recorded anomalous temperatures.\n",
        "4. By default, the threshold temperature is set to 40.0.\n",
        "\n",
        "\n",
        "Instructions\n",
        "1. Define a function detect_anomalies that takes a list of sensor data and an optional threshold.\n",
        "2. Iterate through the dataset and check if any recorded temperature exceeds the threshold.\n",
        "3. Collect and return a list of sensor IDs that exceed the threshold.\n",
        "Print the result.\n",
        "\n",
        "##Test Cases\n",
        "###Input - 1\n",
        "\n",
        "`sensor_data = [\n",
        "    {\"id\": 1, \"temperature\": [27.5, 28.0, 29.3, 35.1, 40.2]},\n",
        "    {\"id\": 2, \"temperature\": [25.2, 26.1, 27.0, 27.5, 30.0]},\n",
        "    {\"id\": 3, \"temperature\": [22.0, 23.5, 45.0, 46.2, 48.5]}\n",
        "]`\n",
        "\n",
        "`threshold = 40.0`\n",
        "\n",
        "`result = detect_anomalies(sensor_data, threshold)`\n",
        "\n",
        "`print(result)`\n",
        "\n",
        "###Expected Output - 1\n",
        "\n",
        "`[1, 3]`"
      ],
      "metadata": {
        "id": "jSNtzLCUWqyW"
      }
    },
    {
      "cell_type": "code",
      "source": [
        "def detect_anomalies(sensor_data, threshold):\n",
        "  sensor_anomalies = list()\n",
        "  for i in sensor_data:\n",
        "    for j in i[\"temperature\"]:\n",
        "      if j > threshold:\n",
        "        sensor_anomalies.append(i[\"id\"])\n",
        "        break\n",
        "  return sensor_anomalies\n",
        "sensor_data = [\n",
        "    {\"id\": 6, \"temperature\": [25.0, 26.1, 27.3, 28.5, 45.2]},\n",
        "    {\"id\": 7, \"temperature\": [29.0, 30.2, 31.5, 32.7, 50.0]}\n",
        "]\n",
        "threshold = 44.0\n",
        "result = detect_anomalies(sensor_data, threshold)\n",
        "print(result)"
      ],
      "metadata": {
        "colab": {
          "base_uri": "https://localhost:8080/"
        },
        "id": "ogdLz9n60ORv",
        "outputId": "4db553f5-dc1b-4abc-fe8d-831a55ca50a3"
      },
      "execution_count": 3,
      "outputs": [
        {
          "output_type": "stream",
          "name": "stdout",
          "text": [
            "[6, 7]\n"
          ]
        }
      ]
    },
    {
      "cell_type": "markdown",
      "source": [
        "#Product Quantity Count"
      ],
      "metadata": {
        "id": "4a4KI5fC022A"
      }
    },
    {
      "cell_type": "markdown",
      "source": [
        "##Description\n",
        "You are tasked with writing a function that calculates the total quantity of each product from a given list of transactions. Each transaction contains:\n",
        "\n",
        "`id`: The transaction ID.\n",
        "\n",
        "`product`: The name of the product.\n",
        "\n",
        "`quantity`: The number of units sold in the transaction.\n",
        "\n",
        "The function should return a dictionary where:\n",
        "- The keys are product names.\n",
        "- The values are the total quantity sold for each product.\n",
        "\n",
        "Instructions\n",
        "1. Define a function quantity_count that takes a list of transactions as input.\n",
        "2. Iterate through the transactions and update the count for each product.\n",
        "3. Store the product quantities in a dictionary.\n",
        "4. Return the dictionary.\n",
        "5. Print the result.\n",
        "\n",
        "##Test Cases\n",
        "###Input - 1\n",
        "\n",
        "`transactions = [\n",
        "    {\"id\": 101, \"product\": \"Laptop X\", \"quantity\": 2},\n",
        "    {\"id\": 102, \"product\": \"Smartphone Y\", \"quantity\": 1},\n",
        "    {\"id\": 103, \"product\": \"Laptop X\", \"quantity\": 3},\n",
        "    {\"id\": 104, \"product\": \"Chair A\", \"quantity\": 4},\n",
        "    {\"id\": 105, \"product\": \"Table Z\", \"quantity\": 1}\n",
        "]`\n",
        "\n",
        "`result = quantity_count(transactions)`\n",
        "\n",
        "`print(result)`\n",
        "\n",
        "###Expected Output - 1\n",
        "\n",
        "`{\"Laptop X\": 5, \"Smartphone Y\": 1, \"Chair A\": 4, \"Table Z\": 1}`"
      ],
      "metadata": {
        "id": "vpnkIMvf041s"
      }
    },
    {
      "cell_type": "code",
      "source": [
        "def quantity_count(transactions):\n",
        "  dict_product = {}\n",
        "  for i in transactions:\n",
        "    product = i[\"product\"]\n",
        "    quantity = i[\"quantity\"]\n",
        "    if product in dict_product:\n",
        "      dict_product[product] += quantity\n",
        "    else:\n",
        "      dict_product[product] = quantity\n",
        "\n",
        "  return\n",
        "\n",
        "transactions = [\n",
        "    {\"id\": 101, \"product\": \"Laptop X\", \"quantity\": 2},\n",
        "    {\"id\": 102, \"product\": \"Smartphone Y\", \"quantity\": 1},\n",
        "    {\"id\": 103, \"product\": \"Laptop X\", \"quantity\": 3},\n",
        "    {\"id\": 104, \"product\": \"Chair A\", \"quantity\": 4},\n",
        "    {\"id\": 105, \"product\": \"Table Z\", \"quantity\": 1}\n",
        "]\n",
        "result = quantity_count(transactions)\n",
        "print(result)"
      ],
      "metadata": {
        "colab": {
          "base_uri": "https://localhost:8080/"
        },
        "id": "Qb79UdM_1a19",
        "outputId": "ed8bc9f7-4721-481a-e9ae-0ebef7d4a4f6"
      },
      "execution_count": 6,
      "outputs": [
        {
          "output_type": "stream",
          "name": "stdout",
          "text": [
            "Laptop X 2\n",
            "Smartphone Y 1\n",
            "Laptop X 3\n",
            "Chair A 4\n",
            "Table Z 1\n",
            "None\n"
          ]
        }
      ]
    },
    {
      "cell_type": "markdown",
      "source": [
        "#Customer Total Spending Calculation"
      ],
      "metadata": {
        "id": "hyfpZaQI442T"
      }
    },
    {
      "cell_type": "markdown",
      "source": [
        "#Description\n",
        "You are tasked with writing a function that calculates the total spending of each customer based on their purchase history. The data is structured as a dictionary where:\n",
        "\n",
        "- Each customer has a unique ID.\n",
        "- Each customer has a name and a list of orders.\n",
        "- Each order consists of a product and its price.\n",
        "\n",
        "The function should return a dictionary where:\n",
        "\n",
        "- The keys are customer names.\n",
        "- The values are the total amount spent by each customer.\n",
        "\n",
        "Instructions\n",
        "1. Define a function calculate_total_spending that takes a dictionary of customer transactions as input.\n",
        "2. Iterate through each customer's orders and calculate the total amount spent.\n",
        "3. Store the results in a dictionary with customer names as keys.\n",
        "4. Return the dictionary.\n",
        "5. Print the result.\n",
        "\n",
        "##Test Cases\n",
        "###Input - 1\n",
        "\n",
        "`customers = {\n",
        "    \"C001\": {\n",
        "        \"name\": \"Alice\",\n",
        "        \"orders\": [\n",
        "            {\"product\": \"Laptop X\", \"price\": 12000000},\n",
        "            {\"product\": \"Mouse\", \"price\": 200000}\n",
        "        ]\n",
        "    },\n",
        "    \"C002\": {\n",
        "        \"name\": \"Bob\",\n",
        "        \"orders\": [\n",
        "            {\"product\": \"Smartphone Y\", \"price\": 5500000}\n",
        "        ]\n",
        "    },\n",
        "    \"C003\": {\n",
        "        \"name\": \"Charlie\",\n",
        "        \"orders\": [\n",
        "            {\"product\": \"Monitor\", \"price\": 2000000},\n",
        "            {\"product\": \"Keyboard\", \"price\": 500000}\n",
        "        ]\n",
        "    }\n",
        "}`\n",
        "\n",
        "`result = calculate_total_spending(customers)`\n",
        "\n",
        "`print(result)`\n",
        "\n",
        "###Expected Output - 1\n",
        "\n",
        "`{\"Alice\": 12200000, \"Bob\": 5500000, \"Charlie\": 2500000}`\n"
      ],
      "metadata": {
        "id": "TXsTYeo547yK"
      }
    },
    {
      "cell_type": "code",
      "source": [
        "import numpy as np\n",
        "\n",
        "def calculate_total_spending(customers):\n",
        "  hasil = {}\n",
        "  for i in customers:\n",
        "    name = customers[i][\"name\"]\n",
        "    hasil[name] = 0\n",
        "    for j in customers[i][\"orders\"]:\n",
        "      price = j[\"price\"]\n",
        "      print(price)\n",
        "      if name in hasil:\n",
        "        hasil[name] += price\n",
        "      else:\n",
        "        hasil[name] = price\n",
        "  return hasil\n",
        "\n",
        "customers = {\n",
        "    \"C001\": {\n",
        "        \"name\": \"Alice\",\n",
        "        \"orders\": [\n",
        "            {\"product\": \"Laptop X\", \"price\": 12000000},\n",
        "            {\"product\": \"Mouse\", \"price\": 200000}\n",
        "        ]\n",
        "    },\n",
        "    \"C002\": {\n",
        "        \"name\": \"Bob\",\n",
        "        \"orders\": [\n",
        "            {\"product\": \"Smartphone Y\", \"price\": 5500000}\n",
        "        ]\n",
        "    },\n",
        "    \"C003\": {\n",
        "        \"name\": \"Charlie\",\n",
        "        \"orders\": [\n",
        "            {\"product\": \"Monitor\", \"price\": 2000000},\n",
        "            {\"product\": \"Keyboard\", \"price\": 500000}\n",
        "        ]\n",
        "    }\n",
        "}\n",
        "result = calculate_total_spending(customers)\n",
        "print(result)"
      ],
      "metadata": {
        "colab": {
          "base_uri": "https://localhost:8080/"
        },
        "id": "7dBy-DcoDBW1",
        "outputId": "3f68fd57-deee-4922-a1a9-87dce1c32d54"
      },
      "execution_count": 64,
      "outputs": [
        {
          "output_type": "stream",
          "name": "stdout",
          "text": [
            "12000000\n",
            "200000\n",
            "5500000\n",
            "2000000\n",
            "500000\n",
            "{'Alice': 12200000, 'Bob': 5500000, 'Charlie': 2500000}\n"
          ]
        }
      ]
    },
    {
      "cell_type": "markdown",
      "source": [
        "#Product Ranking by Revenue"
      ],
      "metadata": {
        "id": "K18KPV3vGEU6"
      }
    },
    {
      "cell_type": "markdown",
      "source": [
        "##Description\n",
        "You are tasked with writing a function that ranks products based on their total revenue. Each product has:\n",
        "\n",
        "- `product`: The product name.\n",
        "- `sold`: The number of units sold.\n",
        "- `price`: The price per unit.\n",
        "\n",
        "The function should compute and return a list of tuples where:\n",
        "\n",
        "- The first element is the product name.\n",
        "- The second element is the total revenue (calculated as sold * price).\n",
        "- The list is sorted in descending order based on total revenue.\n",
        "\n",
        "Instructions\n",
        "1. Define a function rank_products that takes a list of product sales data as input.\n",
        "2. Calculate the total revenue for each product.\n",
        "3. Sort the products based on total revenue in descending order.\n",
        "4. Return the sorted list of tuples.\n",
        "5. Print the result.\n",
        "\n",
        "##Test Cases\n",
        "###Input - 1\n",
        "\n",
        "sales_data = [\n",
        "    {\"product\": \"Laptop X\", \"sold\": 10, \"price\": 12000000},\n",
        "    {\"product\": \"Smartphone Y\", \"sold\": 20, \"price\": 5500000},\n",
        "    {\"product\": \"Monitor\", \"sold\": 15, \"price\": 3000000},\n",
        "    {\"product\": \"Keyboard\", \"sold\": 50, \"price\": 500000}\n",
        "]\n",
        "\n",
        "result = rank_products(sales_data)\n",
        "\n",
        "print(result)\n",
        "\n",
        "###Expected Output - 1\n",
        "\n",
        "`[(\"Laptop X\", 120000000), (\"Smartphone Y\", 110000000), (\"Monitor\", 45000000), (\"Keyboard\", 25000000)]`\n"
      ],
      "metadata": {
        "id": "aZBBsx3DGIPL"
      }
    },
    {
      "cell_type": "code",
      "source": [
        "def rank_products(sales_data):\n",
        "  hasil = list(tuple())\n",
        "  for i in sales_data:\n",
        "    revenue = i[\"sold\"] * i[\"price\"]\n",
        "    product = i[\"product\"]\n",
        "    hasil.append((product, revenue))\n",
        "\n",
        "  hasil.sort(reverse=True)\n",
        "  return hasil\n",
        "\n",
        "\n",
        "sales_data = [\n",
        "    {\"product\": \"Monitor C\", \"sold\": 0, \"price\": 4000000},\n",
        "    {\"product\": \"Mouse D\", \"sold\": 10, \"price\": 300000}\n",
        "]\n",
        "result = rank_products(sales_data)\n",
        "print(result)"
      ],
      "metadata": {
        "colab": {
          "base_uri": "https://localhost:8080/"
        },
        "id": "zFjNdGr-Gl_q",
        "outputId": "15f490f7-e27d-4547-9c8a-00bd13a2ab58"
      },
      "execution_count": 81,
      "outputs": [
        {
          "output_type": "stream",
          "name": "stdout",
          "text": [
            "[('Mouse D', 3000000), ('Monitor C', 0)]\n"
          ]
        }
      ]
    }
  ]
}