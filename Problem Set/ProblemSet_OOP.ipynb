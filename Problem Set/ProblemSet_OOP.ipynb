{
 "cells": [
  {
   "cell_type": "markdown",
   "id": "292cd7b7",
   "metadata": {},
   "source": [
    "# 20"
   ]
  },
  {
   "cell_type": "code",
   "execution_count": 1,
   "id": "97aa21f1",
   "metadata": {},
   "outputs": [
    {
     "name": "stdout",
     "output_type": "stream",
     "text": [
      "{'valid_data': [{'name': 'Andi', 'age': 30, 'email': 'andi@pacdata.com'}], 'error_messages': [\"Error in entry 2: 'name' cannot be empty.\", \"Error in entry 2: 'email' format is invalid.\", \"Error in entry 3: 'age' must be between 0 and 120.\", \"Error in entry 4: 'email' format is invalid.\", \"Error in entry 5: 'email' format is invalid.\"]}\n",
      "{'valid_data': [{'name': 'Andi', 'age': 30, 'email': 'andi@pacdata.com'}, {'name': 'Budi', 'age': 25, 'email': 'budi@pacdata.org'}, {'name': 'Charlie', 'age': 22, 'email': 'charlie@pacdata.com'}, {'name': 'Dewi', 'age': 40, 'email': 'dewi@pacdata.org'}], 'error_messages': []}\n"
     ]
    }
   ],
   "source": [
    "def validate_data(data_list: list) -> dict:\n",
    "    '''Validates a list of data entries based on specific rules.'''\n",
    "    error_messages = []\n",
    "    valid_data = []\n",
    "\n",
    "    for index, entry in enumerate(data_list):\n",
    "        if not isinstance(entry, dict):\n",
    "            error_messages.append(f\"Error in entry {index + 1}: 'entry' must be a dictionary.\")\n",
    "            continue\n",
    "\n",
    "        # Validate 'name'\n",
    "        if 'name' not in entry or not isinstance(entry['name'], str) or not entry['name'].strip():\n",
    "            error_messages.append(f\"Error in entry {index + 1}: 'name' cannot be empty.\")\n",
    "\n",
    "        # Validate 'age'\n",
    "        if 'age' not in entry or not isinstance(entry['age'], int) or not (0 <= entry['age'] <= 120):\n",
    "                error_messages.append(f\"Error in entry {index + 1}: 'age' must be between 0 and 120.\")\n",
    "\n",
    "        # Validate 'email'\n",
    "        if 'email' not in entry or not isinstance(entry['email'], str):\n",
    "            error_messages.append(f\"Error in entry {index + 1}: 'email' format is invalid.\")\n",
    "        else:\n",
    "            email_parts = entry['email'].split('@')\n",
    "            if len(email_parts) != 2 or '.' not in email_parts[1] or email_parts[1].count('.') > 1:\n",
    "                error_messages.append(f\"Error in entry {index + 1}: 'email' format is invalid.\")\n",
    "\n",
    "        # If no errors for this entry, add to valid_data\n",
    "        if not any(f\"Error in entry {index + 1}:\" in msg for msg in error_messages):\n",
    "            valid_data.append(entry)\n",
    "\n",
    "    return {\"valid_data\": valid_data, \"error_messages\": error_messages}\n",
    "\n",
    "\n",
    "\n",
    "\n",
    "# Don't change code below\n",
    "# Input Data\n",
    "data_list_invalid = [\n",
    "    {\"name\": \"Andi\", \"age\": 30, \"email\": \"andi@pacdata.com\"},\n",
    "    {\"name\": \"\", \"age\": 25, \"email\": \"budi@pacdata\"},\n",
    "    {\"name\": \"Charlie\", \"age\": 130, \"email\": \"charlie@pacdata.com\"},\n",
    "    {\"name\": \"Dewi\", \"age\": 22, \"email\": \"dewi@domaincom\"},\n",
    "    {\"name\": \"Eve\", \"age\": 28, \"email\": \"eve@domain..com\"}\n",
    "]\n",
    "\n",
    "data_list_valid = [\n",
    "    {\"name\": \"Andi\", \"age\": 30, \"email\": \"andi@pacdata.com\"},\n",
    "    {\"name\": \"Budi\", \"age\": 25, \"email\": \"budi@pacdata.org\"},\n",
    "    {\"name\": \"Charlie\", \"age\": 22, \"email\": \"charlie@pacdata.com\"},\n",
    "    {\"name\": \"Dewi\", \"age\": 40, \"email\": \"dewi@pacdata.org\"}\n",
    "]\n",
    "\n",
    "# Run the function\n",
    "validation_result_invalid = validate_data(data_list_invalid)\n",
    "validation_result_valid = validate_data(data_list_valid)\n",
    "\n",
    "# Display the validation result\n",
    "print(validation_result_invalid)\n",
    "print(validation_result_valid)"
   ]
  }
 ],
 "metadata": {
  "kernelspec": {
   "display_name": "base",
   "language": "python",
   "name": "python3"
  },
  "language_info": {
   "codemirror_mode": {
    "name": "ipython",
    "version": 3
   },
   "file_extension": ".py",
   "mimetype": "text/x-python",
   "name": "python",
   "nbconvert_exporter": "python",
   "pygments_lexer": "ipython3",
   "version": "3.12.4"
  }
 },
 "nbformat": 4,
 "nbformat_minor": 5
}
