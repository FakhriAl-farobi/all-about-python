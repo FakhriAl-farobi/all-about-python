{
 "cells": [
  {
   "cell_type": "markdown",
   "id": "c2ccb78e",
   "metadata": {},
   "source": [
    "# 11"
   ]
  },
  {
   "cell_type": "code",
   "execution_count": null,
   "id": "bc60667b",
   "metadata": {},
   "outputs": [],
   "source": [
    "# Function to calculate total revenue\n",
    "def calculate_revenue(transaction_list):\n",
    "    total = 0\n",
    "    for transaction in transaction_list:\n",
    "        if type(transaction['quantity']) != int:\n",
    "            transaction['quantity'] = int(transaction['quantity'])\n",
    "\n",
    "        revenue = transaction['price'] * transaction['quantity']\n",
    "        total += revenue\n",
    "\n",
    "    return total\n",
    "\n",
    "# Input Data\n",
    "transactions = [\n",
    "    {'product_id': 'P001', 'price': 29.99, 'quantity': 3},\n",
    "    {'product_id': 'P002', 'price': 49.50, 'quantity': '2'},\n",
    "    {'product_id': 'P003', 'price': 15.75, 'quantity': 5}\n",
    "]\n",
    "\n",
    "# Run the function\n",
    "total_revenue = calculate_revenue(transactions)\n",
    "print(\"Total Revenue: $\", total_revenue)"
   ]
  },
  {
   "cell_type": "markdown",
   "id": "4bd2091b",
   "metadata": {},
   "source": [
    "# 12"
   ]
  },
  {
   "cell_type": "code",
   "execution_count": null,
   "id": "afa536d8",
   "metadata": {},
   "outputs": [],
   "source": [
    "def r_squared(y, y_hat):\n",
    "    '''Return the R-squared value.'''\n",
    "    mean_y = sum(y) / len(y)\n",
    "    ss_total = sum((yi - mean_y) ** 2 for yi in y)\n",
    "    ss_residual = sum((y[i] - yi) ** 2 for i, yi in enumerate(y_hat))\n",
    "\n",
    "    # Avoid division by zero if ss_total is zero\n",
    "    if ss_total == 0:\n",
    "        return 0.0 if ss_residual == 0 else float('-inf')\n",
    "\n",
    "    r2 = round(1 - (ss_residual / ss_total), 3)\n",
    "\n",
    "    return r2\n",
    "\n",
    "# Input Data\n",
    "y = [3, -0.5, 2, 7]\n",
    "y_hat = [2.5, 0.0, 2, 8]\n",
    "\n",
    "# Run the function\n",
    "result = r_squared(y, y_hat)\n",
    "print(\"R-squared:\", result)"
   ]
  },
  {
   "cell_type": "markdown",
   "id": "61d90035",
   "metadata": {},
   "source": [
    "# 13"
   ]
  },
  {
   "cell_type": "code",
   "execution_count": 3,
   "id": "c2d35668",
   "metadata": {},
   "outputs": [
    {
     "name": "stdout",
     "output_type": "stream",
     "text": [
      "Initial Raw Data: []\n",
      "Initial Transformed Data: []\n",
      "\n",
      "Raw Data [After Ingest Data]:['  Data Entry 1  ', '  Data Entry 2  ', 'DATA ENTRY 3']\n",
      "Transformed Data [After Transformed Data]:['data entry 1', 'data entry 2', 'data entry 3']\n",
      "\n",
      "Loaded Data:\n",
      " ['data entry 1', 'data entry 2', 'data entry 3']\n"
     ]
    }
   ],
   "source": [
    "# Data Pipeline Management class\n",
    "class DataPipeline:\n",
    "    def __init__(self):\n",
    "      self.raw_data = []\n",
    "      self.transformed_data = []\n",
    "\n",
    "    def ingest_data(self, data):\n",
    "        '''Ingest raw data into the pipeline.'''\n",
    "        if type(data) == list:\n",
    "            self.raw_data.extend(data) \n",
    "        else:\n",
    "            self.raw_data.append(data)  \n",
    "\n",
    "    def transform_data(self):\n",
    "        '''Transform raw data into a usable format.'''\n",
    "        for entry in self.raw_data:\n",
    "            transformed_entry = entry.strip().lower()\n",
    "            self.transformed_data.append(transformed_entry)\n",
    "        \n",
    "\n",
    "    def load_data(self):\n",
    "        '''Load transformed data for further processing.'''\n",
    "        if not self.transformed_data:\n",
    "            return \"No data to load\"\n",
    "        return self.transformed_data\n",
    "\n",
    "# Input Data\n",
    "pipeline = DataPipeline()\n",
    "print(f'Initial Raw Data: {pipeline.raw_data}')\n",
    "print(f'Initial Transformed Data: {pipeline.transformed_data}')\n",
    "\n",
    "pipeline.ingest_data([\"  Data Entry 1  \", \"  Data Entry 2  \", \"DATA ENTRY 3\"])\n",
    "print(f'\\nRaw Data [After Ingest Data]:{pipeline.raw_data}')\n",
    "\n",
    "pipeline.transform_data()\n",
    "print(f'Transformed Data [After Transformed Data]:{pipeline.transformed_data}\\n')\n",
    "\n",
    "# Run the loading method\n",
    "loaded_data = pipeline.load_data()\n",
    "print(\"Loaded Data:\\n\",loaded_data)"
   ]
  },
  {
   "cell_type": "markdown",
   "id": "e9bcf7a5",
   "metadata": {},
   "source": [
    "# 14"
   ]
  },
  {
   "cell_type": "code",
   "execution_count": null,
   "id": "196ec8d3",
   "metadata": {},
   "outputs": [],
   "source": [
    "def categorize_expenses(expenses):\n",
    "    '''Categorize expenses into High, Moderate, or Low.'''\n",
    "    categorized_expenses = []\n",
    "    for expense in expenses:\n",
    "        if 'amount' in expense and (type(expense['amount']) == int or type(expense['amount']) == float):\n",
    "            amount = expense['amount']\n",
    "\n",
    "            # Categorize based on amount value\n",
    "            if amount > 500:\n",
    "                category = \"High\"\n",
    "            elif 200 <= amount <= 500:\n",
    "                category = \"Moderate\"\n",
    "            else:\n",
    "                category = \"Low\"\n",
    "\n",
    "            # Append categorized data\n",
    "            categorized_expenses.append({\n",
    "                \"description\": expense[\"description\"],\n",
    "                \"amount\": amount,\n",
    "                \"category\": category}\n",
    "            )\n",
    "\n",
    "    return categorized_expenses\n",
    "\n",
    "# Input Data\n",
    "monthly_expenses = [\n",
    "    {\"description\": \"Rent\", \"amount\": 1200},\n",
    "    {\"description\": \"Groceries\", \"amount\": 300},\n",
    "    {\"description\": \"Utilities\", \"amount\": \"150\"},\n",
    "    {\"description\": \"Internet\", \"amount\": 50},\n",
    "]\n",
    "\n",
    "# Run the function\n",
    "categorized_list = categorize_expenses(monthly_expenses)\n",
    "print(\"Categorized Expenses:\", categorized_list)"
   ]
  },
  {
   "cell_type": "markdown",
   "id": "4e7acc4b",
   "metadata": {},
   "source": [
    "# 15"
   ]
  },
  {
   "cell_type": "code",
   "execution_count": null,
   "id": "a53b055c",
   "metadata": {},
   "outputs": [],
   "source": [
    "def check_restocking(inventory):\n",
    "    '''Identifies items needing restocking.'''\n",
    "    restock_threshold = 10\n",
    "    restock_items = []\n",
    "\n",
    "    for product in inventory:\n",
    "        if 'stock' in product and type(product['stock']) == int:\n",
    "            stock_level = product['stock']\n",
    "\n",
    "        if stock_level < restock_threshold:\n",
    "            restock_items.append(product['name'])\n",
    "\n",
    "    return restock_items if restock_items else []\n",
    "\n",
    "# Input Data\n",
    "inventory = [\n",
    "    {\"name\": \"Laptop\", \"stock\": 8},\n",
    "    {\"name\": \"Mouse\", \"stock\": 15},\n",
    "    {\"name\": \"Keyboard\", \"stock\": 7},\n",
    "    {\"name\": \"Monitor\", \"stock\": 10},\n",
    "    {\"name\": \"USB Cable\", \"stock\": 5}\n",
    "]\n",
    "\n",
    "# Run the function\n",
    "items_to_restock = check_restocking(inventory)\n",
    "print(\"Items needing restocking:\", items_to_restock)"
   ]
  },
  {
   "cell_type": "markdown",
   "id": "f3afbba7",
   "metadata": {},
   "source": [
    "# 16"
   ]
  },
  {
   "cell_type": "code",
   "execution_count": null,
   "id": "d0a97d86",
   "metadata": {},
   "outputs": [],
   "source": [
    "def filter_applicants(applicants, required_skills, required_experience, preferred_location):\n",
    "    '''Filter applicants based on skills, experience, and location.'''\n",
    "    shortlisted_candidates = []\n",
    "\n",
    "    for applicant in applicants:\n",
    "        if applicant.get(\"years_of_exp\") >= required_experience:\n",
    "            has_all_skills = False\n",
    "            for skill in required_skills:\n",
    "                if skill in applicant.get(\"skills\"):\n",
    "                    has_all_skills = True\n",
    "                    \n",
    "\n",
    "            if has_all_skills and applicant.get(\"location\", \"\").lower() == preferred_location.lower():\n",
    "                shortlisted_candidates.append(applicant[\"name\"])\n",
    "                \n",
    "    return shortlisted_candidates\n",
    "\n",
    "# Input Data\n",
    "applicants = [\n",
    "    {\"name\": \"Azis\", \"years_of_exp\": 2, \"skills\": [\"Python\", \"SQL\", \"Data Analysis\"], \"location\": \"Bandung\"},\n",
    "    {\"name\": \"Bobi\", \"years_of_exp\": 1, \"skills\": [\"Python\", \"Data Visualization\"], \"location\": \"Bandung\"},\n",
    "    {\"name\": \"Caca\", \"years_of_exp\": 4, \"skills\": [\"SQL\",\"Python\", \"Machine Learning\"], \"location\": \"bandung\"}\n",
    "]\n",
    "\n",
    "# Filter Criteria\n",
    "required_skills = [\"Python\", \"SQL\"]\n",
    "required_experience = 2\n",
    "preferred_location = \"Bandung\"\n",
    "\n",
    "# Run the function\n",
    "qualified_candidates = filter_applicants(applicants, required_skills, required_experience, preferred_location)\n",
    "print(\"Qualified Candidates:\", qualified_candidates)"
   ]
  },
  {
   "cell_type": "markdown",
   "id": "e28b4a4e",
   "metadata": {},
   "source": [
    "# 17"
   ]
  },
  {
   "cell_type": "code",
   "execution_count": null,
   "id": "04744a7e",
   "metadata": {},
   "outputs": [],
   "source": [
    "def track_traffic(daily_visits):\n",
    "    '''Tracks website traffic and identifies trends.'''\n",
    "    traffic_trends = []\n",
    "\n",
    "    for i in range(len(daily_visits)):\n",
    "        if type(daily_visits[i]) == int and daily_visits[i] >= 0:\n",
    "            if i == 0:\n",
    "                trend = \"N/A\"\n",
    "            else:\n",
    "                if daily_visits[i] < daily_visits[i - 1]:\n",
    "                    trend = \"Decrease\"\n",
    "                elif daily_visits[i] > daily_visits[i - 1]:\n",
    "                    trend = \"Increase\"\n",
    "                else:\n",
    "                    trend = \"Stable\"\n",
    "            traffic_trends.append((daily_visits[i], trend))\n",
    "\n",
    "    return traffic_trends\n",
    "\n",
    "# Input Data\n",
    "daily_visits = [100, 150, 150, 120, 200, 180]\n",
    "\n",
    "# Run the function\n",
    "traffic_analysis = track_traffic(daily_visits)\n",
    "print(\"Daily Traffic Analysis:\", traffic_analysis)"
   ]
  },
  {
   "cell_type": "markdown",
   "id": "0a8fa504",
   "metadata": {},
   "source": [
    "# 18"
   ]
  },
  {
   "cell_type": "code",
   "execution_count": null,
   "id": "128b9037",
   "metadata": {},
   "outputs": [],
   "source": [
    "def select_best_response(query, responses):\n",
    "    '''Selects the most relevant response based on relevance scores.'''\n",
    "    best_response = \"\"\n",
    "    highest_score = 0\n",
    "\n",
    "    for response in responses:\n",
    "        if 'relevance_score' in response and type(response['relevance_score']) == float:\n",
    "            score = response['relevance_score']\n",
    "            if score > highest_score:\n",
    "                highest_score = score\n",
    "                best_response = response['text']\n",
    "\n",
    "    return best_response if best_response else \"No suitable response found.\"\n",
    "\n",
    "# Input Data\n",
    "query = \"How can I reset my password?\"\n",
    "responses = [\n",
    "    {\"text\": \"You can reset your password from the settings page.\", \"relevance_score\": 0.75},\n",
    "    {\"text\": \"Go to settings and click on 'Password Reset'.\", \"relevance_score\": 0.9},\n",
    "    {\"text\": \"Please provide more information.\", \"relevance_score\": 0.9},\n",
    "    {\"text\": \"You can update your profile from the account page.\", \"relevance_score\": 0.3}\n",
    "]\n",
    "\n",
    "# Run the function\n",
    "selected_response = select_best_response(query, responses)\n",
    "print(\"Best response:\", selected_response)"
   ]
  },
  {
   "cell_type": "markdown",
   "id": "c0e0a54b",
   "metadata": {},
   "source": [
    "# 19"
   ]
  },
  {
   "cell_type": "code",
   "execution_count": 2,
   "id": "94180d1a",
   "metadata": {},
   "outputs": [
    {
     "name": "stdout",
     "output_type": "stream",
     "text": [
      "Flight Price Statistics: {'average': 300.298, 'lowest': 150.25, 'highest': 600.0}\n"
     ]
    }
   ],
   "source": [
    "def calculate_flight_price_stats(prices):\n",
    "    '''Calculates average, lowest, and highest flight prices.'''\n",
    "    if not prices:\n",
    "        return None\n",
    "\n",
    "    total_price = 0\n",
    "    lowest_price = float('inf')\n",
    "    highest_price = float('-inf')\n",
    "    counter = 0\n",
    "\n",
    "    for price in prices:\n",
    "        if type(price) == int or type(price) == float:\n",
    "            total_price += price\n",
    "\n",
    "            if price < lowest_price:\n",
    "                lowest_price = price\n",
    "\n",
    "            if price > highest_price:\n",
    "                highest_price = price\n",
    "            \n",
    "            counter +=1\n",
    "\n",
    "    average_price = total_price / counter\n",
    "\n",
    "    return {\n",
    "        \"average\": average_price,\n",
    "        \"lowest\": lowest_price,\n",
    "        \"highest\": highest_price\n",
    "    }\n",
    "\n",
    "# Input Data\n",
    "flight_prices = [250.50, 300.75, \"400\", 150.25, None, 600.00, 199.99]\n",
    "\n",
    "# Run the function\n",
    "price_stats = calculate_flight_price_stats(flight_prices)\n",
    "print(\"Flight Price Statistics:\", price_stats)"
   ]
  },
  {
   "cell_type": "markdown",
   "id": "292cd7b7",
   "metadata": {},
   "source": [
    "# 20"
   ]
  },
  {
   "cell_type": "code",
   "execution_count": 1,
   "id": "97aa21f1",
   "metadata": {},
   "outputs": [
    {
     "name": "stdout",
     "output_type": "stream",
     "text": [
      "{'valid_data': [{'name': 'Andi', 'age': 30, 'email': 'andi@pacdata.com'}], 'error_messages': [\"Error in entry 2: 'name' cannot be empty.\", \"Error in entry 2: 'email' format is invalid.\", \"Error in entry 3: 'age' must be between 0 and 120.\", \"Error in entry 4: 'email' format is invalid.\", \"Error in entry 5: 'email' format is invalid.\"]}\n",
      "{'valid_data': [{'name': 'Andi', 'age': 30, 'email': 'andi@pacdata.com'}, {'name': 'Budi', 'age': 25, 'email': 'budi@pacdata.org'}, {'name': 'Charlie', 'age': 22, 'email': 'charlie@pacdata.com'}, {'name': 'Dewi', 'age': 40, 'email': 'dewi@pacdata.org'}], 'error_messages': []}\n"
     ]
    }
   ],
   "source": [
    "def validate_data(data_list: list) -> dict:\n",
    "    '''Validates a list of data entries based on specific rules.'''\n",
    "    error_messages = []\n",
    "    valid_data = []\n",
    "\n",
    "    for index, entry in enumerate(data_list):\n",
    "        if not isinstance(entry, dict):\n",
    "            error_messages.append(f\"Error in entry {index + 1}: 'entry' must be a dictionary.\")\n",
    "            continue\n",
    "\n",
    "        # Validate 'name'\n",
    "        if 'name' not in entry or not isinstance(entry['name'], str) or not entry['name'].strip():\n",
    "            error_messages.append(f\"Error in entry {index + 1}: 'name' cannot be empty.\")\n",
    "\n",
    "        # Validate 'age'\n",
    "        if 'age' not in entry or not isinstance(entry['age'], int) or not (0 <= entry['age'] <= 120):\n",
    "                error_messages.append(f\"Error in entry {index + 1}: 'age' must be between 0 and 120.\")\n",
    "\n",
    "        # Validate 'email'\n",
    "        if 'email' not in entry or not isinstance(entry['email'], str):\n",
    "            error_messages.append(f\"Error in entry {index + 1}: 'email' format is invalid.\")\n",
    "        else:\n",
    "            email_parts = entry['email'].split('@')\n",
    "            if len(email_parts) != 2 or '.' not in email_parts[1] or email_parts[1].count('.') > 1:\n",
    "                error_messages.append(f\"Error in entry {index + 1}: 'email' format is invalid.\")\n",
    "\n",
    "        # If no errors for this entry, add to valid_data\n",
    "        if not any(f\"Error in entry {index + 1}:\" in msg for msg in error_messages):\n",
    "            valid_data.append(entry)\n",
    "\n",
    "    return {\"valid_data\": valid_data, \"error_messages\": error_messages}\n",
    "\n",
    "\n",
    "\n",
    "\n",
    "# Don't change code below\n",
    "# Input Data\n",
    "data_list_invalid = [\n",
    "    {\"name\": \"Andi\", \"age\": 30, \"email\": \"andi@pacdata.com\"},\n",
    "    {\"name\": \"\", \"age\": 25, \"email\": \"budi@pacdata\"},\n",
    "    {\"name\": \"Charlie\", \"age\": 130, \"email\": \"charlie@pacdata.com\"},\n",
    "    {\"name\": \"Dewi\", \"age\": 22, \"email\": \"dewi@domaincom\"},\n",
    "    {\"name\": \"Eve\", \"age\": 28, \"email\": \"eve@domain..com\"}\n",
    "]\n",
    "\n",
    "data_list_valid = [\n",
    "    {\"name\": \"Andi\", \"age\": 30, \"email\": \"andi@pacdata.com\"},\n",
    "    {\"name\": \"Budi\", \"age\": 25, \"email\": \"budi@pacdata.org\"},\n",
    "    {\"name\": \"Charlie\", \"age\": 22, \"email\": \"charlie@pacdata.com\"},\n",
    "    {\"name\": \"Dewi\", \"age\": 40, \"email\": \"dewi@pacdata.org\"}\n",
    "]\n",
    "\n",
    "# Run the function\n",
    "validation_result_invalid = validate_data(data_list_invalid)\n",
    "validation_result_valid = validate_data(data_list_valid)\n",
    "\n",
    "# Display the validation result\n",
    "print(validation_result_invalid)\n",
    "print(validation_result_valid)"
   ]
  }
 ],
 "metadata": {
  "kernelspec": {
   "display_name": "base",
   "language": "python",
   "name": "python3"
  },
  "language_info": {
   "codemirror_mode": {
    "name": "ipython",
    "version": 3
   },
   "file_extension": ".py",
   "mimetype": "text/x-python",
   "name": "python",
   "nbconvert_exporter": "python",
   "pygments_lexer": "ipython3",
   "version": "3.12.4"
  }
 },
 "nbformat": 4,
 "nbformat_minor": 5
}
