{
 "cells": [
  {
   "cell_type": "code",
   "execution_count": 3,
   "id": "ab07ba48",
   "metadata": {},
   "outputs": [
    {
     "name": "stdout",
     "output_type": "stream",
     "text": [
      "153.86\n"
     ]
    }
   ],
   "source": [
    "class Lingkaran:\n",
    "    PHI = 3.14\n",
    "    def __init__(self, radius):\n",
    "        self.radius = radius\n",
    "        self.diameter = 2*radius\n",
    "\n",
    "    def keliling(self):\n",
    "        keliling = self.PHI * self.diameter\n",
    "        return keliling\n",
    "\n",
    "    def luas(self):\n",
    "        luas = self.PHI * self.radius ** 2\n",
    "        return luas\n",
    "    \n",
    "lingkaran_1 = Lingkaran(7)\n",
    "\n",
    "print(lingkaran_1.luas())"
   ]
  },
  {
   "cell_type": "markdown",
   "id": "c6949666",
   "metadata": {},
   "source": [
    "---\n",
    "# Case 1 : Membuat Kelas Kendaraan\n",
    "Anda diminta untuk membuat program yang berisi kelas mobil, motor, dan skuter yang kemudain diberikan atribut.\n"
   ]
  },
  {
   "cell_type": "markdown",
   "id": "48bb4693",
   "metadata": {},
   "source": [
    "### 1A.\n",
    "Buat Kelas dengan atribut instance\n",
    "\n",
    "Tulis program Python untuk membuat kelas `Mobil` dengan atribut instance `kecepatan` dan `jarak`."
   ]
  },
  {
   "cell_type": "code",
   "execution_count": 10,
   "id": "59b4ba81",
   "metadata": {},
   "outputs": [
    {
     "name": "stdout",
     "output_type": "stream",
     "text": [
      "40 5\n"
     ]
    }
   ],
   "source": [
    "#buat kelas Mobil\n",
    "class Mobil:\n",
    "    def __init__(self,kecepatan,jarak):\n",
    "        self.kecepatan = kecepatan\n",
    "        self.jarak = jarak\n",
    "\n",
    "\n",
    "#berikan atribut instance kecepatan dan jarak\n",
    "instance_mobil = Mobil(40, 5)\n",
    "print(instance_mobil.kecepatan, instance_mobil.jarak)"
   ]
  },
  {
   "cell_type": "markdown",
   "id": "51f69400",
   "metadata": {},
   "source": [
    "### 1B.\n",
    "Buat Kelas dengan atribut instance\n",
    "\n",
    "Tulis program Python untuk membuat kelas `Motor` dengan atribut instance `kecepatan`, `jarak`, `warna`."
   ]
  },
  {
   "cell_type": "code",
   "execution_count": 13,
   "id": "2c228b06",
   "metadata": {},
   "outputs": [
    {
     "name": "stdout",
     "output_type": "stream",
     "text": [
      "89 60 Merah\n"
     ]
    }
   ],
   "source": [
    "class Motor:\n",
    "    def __init__(self, kecepatan, jarak, warna):\n",
    "        self.kecepatan = kecepatan\n",
    "        self.jarak = jarak\n",
    "        self.warna = warna\n",
    "\n",
    "instance_motor = Motor(89, 60, 'Merah')\n",
    "\n",
    "print(instance_motor.kecepatan, instance_motor.jarak, instance_motor.warna)"
   ]
  },
  {
   "cell_type": "markdown",
   "id": "89833b79",
   "metadata": {},
   "source": [
    "# Case 2 : Perhitungan Daftar Belanja\n",
    "Buatlah Program yang dapat menghitung daftar belanja."
   ]
  },
  {
   "cell_type": "markdown",
   "id": "94d41303",
   "metadata": {},
   "source": [
    "### 2A\n",
    "\n",
    "Buat **class** dengan nama **Belanja** berisikan method `jumlah_belanja` yang dapat memberikan output `nama barang: jumlah barang`\n",
    "* dengan atribut kelas Roti=3, Soda=5, dan Selai=2.\n",
    "* Output yang diharapkan yakni:\n",
    "```\n",
    "Jumlah Belanja:\n",
    "Roti = 3\n",
    "Soda = 5\n",
    "Selai = 2\n",
    "```"
   ]
  },
  {
   "cell_type": "code",
   "execution_count": 6,
   "id": "96c8c0f9",
   "metadata": {},
   "outputs": [
    {
     "name": "stdout",
     "output_type": "stream",
     "text": [
      "Jumlah Belanja:\n",
      " Roti: 3\n",
      " Soda: 5\n",
      " Selai: 2\n"
     ]
    }
   ],
   "source": [
    "class Belanja:\n",
    "    def __init__(self, roti, soda, selai):\n",
    "        self.roti = roti\n",
    "        self.soda = soda\n",
    "        self.selai = selai\n",
    "    def jumlah_belanja(self):\n",
    "        return (f'Jumlah Belanja:\\n Roti: {self.roti}\\n Soda: {self.soda}\\n Selai: {self.selai}')\n",
    "\n",
    "instance_barang = Belanja(3,5,2)\n",
    "\n",
    "print(instance_barang.jumlah_belanja())"
   ]
  },
  {
   "cell_type": "markdown",
   "id": "6ddd6d4b",
   "metadata": {},
   "source": [
    "### 2B.\n",
    "Kemudian Buat **class** dengan nama **AlatTulis** berisikan method `TotalHarga` yang dapat memberikan output `nama: harga`\n",
    "* dengan atribut Pensil=2000, Pulpen=3000, dan Penghapus=1000.\n",
    "* Output yang diharapkan yakni:\n",
    "```\n",
    "Daftar Harga:\n",
    "Pensil = 2000\n",
    "Pulpen = 3000\n",
    "Penghapus = 1000\n",
    "```"
   ]
  },
  {
   "cell_type": "code",
   "execution_count": null,
   "id": "a09a9fec",
   "metadata": {},
   "outputs": [],
   "source": [
    "class AlatTulis:\n",
    "    def __init__(self, pensil, pulpen, penghapus):\n",
    "        self.pensil = pensil\n",
    "        self.pulpen = pulpen\n",
    "        self.penghapus = penghapus"
   ]
  },
  {
   "cell_type": "code",
   "execution_count": 8,
   "id": "12c9a532",
   "metadata": {},
   "outputs": [
    {
     "name": "stdout",
     "output_type": "stream",
     "text": [
      "asep\n"
     ]
    }
   ],
   "source": [
    "a  = \"Asep\"\n",
    "a = a.lower()\n",
    "print(a)"
   ]
  },
  {
   "cell_type": "markdown",
   "id": "896103b7",
   "metadata": {},
   "source": [
    "# Case 3 : Data Pekerja dan Pelanggan\n",
    "Sebuah pabrik memiliki banyak pekerja dan pelanggan yang mana memerlukan program untuk menata database karyawan dan pelanggannya."
   ]
  },
  {
   "cell_type": "markdown",
   "id": "72c6c7ce",
   "metadata": {},
   "source": [
    "### 3A.\n",
    "Buatlah sebuah class dengan nama **Pekerja** yang memiliki atribut berupa **nama_depan** dan **nama_belakang**. Kemudian buatlah 2 atribut baru di dalam class tersebut yaitu **namalengkap** dan **email**\n",
    "\n",
    " - **nama_lengkap** mengabungkan nama_depan dan nama_belakang\n",
    " - **email** menggabungkan nama_depan dan nama_belakang dengan sebuah '.' diantaranya, diikut dengan @company.com di. pastikan semua huruf di dalam email merupakan huruf kecil.\n"
   ]
  },
  {
   "cell_type": "code",
   "execution_count": 9,
   "id": "8a664b47",
   "metadata": {},
   "outputs": [
    {
     "name": "stdout",
     "output_type": "stream",
     "text": [
      "Iron\n",
      "Man\n",
      "IronMan\n",
      "iron.man@company.com\n"
     ]
    }
   ],
   "source": [
    "#buat class Pekerja\n",
    "class Pekerja:\n",
    "    def __init__(self, nama_depan, nama_belakang):\n",
    "        self.nama_depan = nama_depan\n",
    "        self.nama_belakang = nama_belakang\n",
    "        self.nama_lengkap = nama_depan + nama_belakang\n",
    "        self.email = f'{nama_depan.lower()}.{nama_belakang.lower()}@company.com'\n",
    "        \n",
    "\n",
    "    #buat atribut nama_depan dan nama_belakang\n",
    "    ...\n",
    "    #buat atribut nama_lengkap dan email\n",
    "    ...\n",
    "\n",
    "# buatlah instance dan panggil attribute nya\n",
    "instance_pekerja = Pekerja('Iron', 'Man')\n",
    "print(instance_pekerja.nama_depan)\n",
    "print(instance_pekerja.nama_belakang)\n",
    "print(instance_pekerja.nama_lengkap)\n",
    "print(instance_pekerja.email)\n"
   ]
  },
  {
   "cell_type": "markdown",
   "id": "fd8a6f96",
   "metadata": {},
   "source": [
    "### 3B.\n",
    "Buatlah sebuah class dengan nama **Pelanggan** yang memiliki atribut berupa **kota** dan **desa**. Kemudian buatlah 1 atribut baru di dalam class tersebut yaitu **kota_desa**.\n",
    "\n",
    " - **kota_desa** mengabungkan kota dan desa\n"
   ]
  },
  {
   "cell_type": "code",
   "execution_count": 11,
   "id": "20a1dab3",
   "metadata": {},
   "outputs": [
    {
     "name": "stdout",
     "output_type": "stream",
     "text": [
      "Malang, Landungsari\n"
     ]
    }
   ],
   "source": [
    "#buat class pelanggan\n",
    "class Pelanggan:\n",
    "    def __init__(self, kota, desa):\n",
    "        self.kota = kota\n",
    "        self.desa = desa\n",
    "        self.kota_desa = f'{kota}, {desa}'\n",
    "    #buat atribut kota dan desa\n",
    "    ...\n",
    "    #buat atribut kota_desa\n",
    "    ...\n",
    "\n",
    "# buatlah instance dan panggil attribute nya\n",
    "instance_pelanggan = Pelanggan('Malang', 'Landungsari')\n",
    "print(instance_pelanggan.kota_desa)"
   ]
  }
 ],
 "metadata": {
  "kernelspec": {
   "display_name": "base",
   "language": "python",
   "name": "python3"
  },
  "language_info": {
   "codemirror_mode": {
    "name": "ipython",
    "version": 3
   },
   "file_extension": ".py",
   "mimetype": "text/x-python",
   "name": "python",
   "nbconvert_exporter": "python",
   "pygments_lexer": "ipython3",
   "version": "3.12.4"
  }
 },
 "nbformat": 4,
 "nbformat_minor": 5
}
