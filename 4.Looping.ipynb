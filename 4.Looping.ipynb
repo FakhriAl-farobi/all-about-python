{
 "cells": [
  {
   "cell_type": "markdown",
   "id": "c944c779",
   "metadata": {},
   "source": [
    "## For Loop\n",
    "___"
   ]
  },
  {
   "cell_type": "code",
   "execution_count": 1,
   "id": "9f5737c8",
   "metadata": {},
   "outputs": [
    {
     "name": "stdout",
     "output_type": "stream",
     "text": [
      "key: Kota_1 | Value: Surabaya\n",
      "key: Kota_2 | Value: Malang\n",
      "key: Kota_3 | Value: Bandung\n"
     ]
    }
   ],
   "source": [
    "# cara pertama dengan \n",
    "dict_kota = {'Kota_1':'Surabaya', 'Kota_2':'Malang', 'Kota_3':'Bandung'}\n",
    "for kota in dict_kota:\n",
    "    print(f'key: {kota} | Value: {dict_kota[kota]}')"
   ]
  },
  {
   "cell_type": "markdown",
   "id": "7f2d0f6a",
   "metadata": {},
   "source": [
    "## List Comprehension\n",
    "___"
   ]
  },
  {
   "cell_type": "markdown",
   "id": "3f27182c",
   "metadata": {},
   "source": [
    "![image.png](data:image/png;base64,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)"
   ]
  },
  {
   "cell_type": "markdown",
   "id": "79651747",
   "metadata": {},
   "source": [
    "Kedua contoh code di atas memiliki output yang sama, yaitu membuat list baru bernama `list_gaji_baru` dari `list_gaji`. Setiap warnanya mewakili yang terjadi pada setiap bagian kode. \n",
    "- warna `pink` merupakan variabel baru yang kita akan buat. Pada `non-list comprehension` kita harus membuat `empty list` dahulu. Pada `list comprehension` kita langsung bisa menulis pada satu baris kode yang sama.\n",
    "- warna `hijau` merupakan `loop` untuk mendapatkan element pada variabel `list_gaji`. Jika kita lihat disini `for` loop yang digunakan sama, yang berbeda hanyalah titik dua pada akhir.\n",
    "- warna `kuning` merupakan apa yang kita inginkan untuk output. Pada `non-list comprehension` membutuhkan method `append` namun pada `list comprehension` cukup kita tuliskan nama variabelnya saja."
   ]
  },
  {
   "cell_type": "code",
   "execution_count": null,
   "id": "ab37e8c5",
   "metadata": {},
   "outputs": [],
   "source": [
    "#hasil = [<apa_yang_mau_dimunculkan> for <variabel> in <iterable> if <kondisi>]\n"
   ]
  },
  {
   "cell_type": "code",
   "execution_count": 1,
   "id": "904e0c2d",
   "metadata": {},
   "outputs": [
    {
     "name": "stdout",
     "output_type": "stream",
     "text": [
      "[3500000, 4500000]\n"
     ]
    }
   ],
   "source": [
    "# coba jalankan code dibawah\n",
    "list_gaji = [2_000_000, 3_500_000, 4_500_000, 2_500_000]\n",
    "\n",
    "# kita akan mencoba mengambil gaji yang lebih besar dari 3.000.000\n",
    "list_gaji_baru = [gaji for gaji in list_gaji if gaji > 3_000_000]\n",
    "  \n",
    "print(list_gaji_baru)"
   ]
  },
  {
   "cell_type": "code",
   "execution_count": 2,
   "id": "9858f37c",
   "metadata": {},
   "outputs": [
    {
     "data": {
      "text/plain": [
       "['genap', 'genap']"
      ]
     },
     "execution_count": 2,
     "metadata": {},
     "output_type": "execute_result"
    }
   ],
   "source": [
    "[x for x in [1, 2, 3, 4] if x % 2 == 0]\n",
    "\n",
    "[\"genap\" for x in [1, 2, 3, 4] if x % 2 == 0]\n"
   ]
  },
  {
   "cell_type": "markdown",
   "id": "e2cd9ae4",
   "metadata": {},
   "source": [
    "## **Case Study 1: Jadwal Bekal Makanan**\n",
    "___\n"
   ]
  },
  {
   "cell_type": "markdown",
   "id": "5a8bb768",
   "metadata": {},
   "source": [
    "Laras dan Dani pasangan yang baru menikah, namun karna satu dan lain hal biaya pernikahan melebihi budget yang di rencanakan. Karena itu, mereka harus berhemat untuk membayar selisih.\n",
    "\n",
    "agar hemat, setiap berangkat kerja Dani membawa bekal yang di buat oleh Laras dengan menu yang berbeda setiap 3 hari. Menu yang di bawa yaitu:\n",
    "\n",
    "| Hari           | Bekal  |\n",
    "|----------------|--------|\n",
    "| Pertama        | Nasi + Telur  |\n",
    "| Kedua          | Nasi + Ikan |\n",
    "| Ketiga | Nasi + Tahu & Tempe  |\n",
    "\n",
    "\n",
    "Selama satu bulan tentukan jadwal bekal yang dibawah oleh Dani\n",
    "\n",
    "\n",
    "```\n",
    "Keterangan:\n",
    "- Asumsikan hari pertama = hari Senin = Tanggal 1\n",
    "- hari kerja dimulai dari Senin - Sabtu\n",
    "```"
   ]
  },
  {
   "cell_type": "code",
   "execution_count": 4,
   "id": "82b49fdb",
   "metadata": {},
   "outputs": [
    {
     "name": "stdout",
     "output_type": "stream",
     "text": [
      "Tanggal 1 Bekal Nasi + Telur\n",
      "Tanggal 2 Bekal Nasi + Ikan\n",
      "Tanggal 3 Bekal Nasi + Tahu & Tempe\n",
      "Tanggal 4 Bekal Nasi + Telur\n",
      "Tanggal 5 Bekal Nasi + Ikan\n",
      "Tanggal 6 Bekal Nasi + Tahu & Tempe\n",
      "Tanggal 7 libur\n",
      "Tanggal 8 Bekal Nasi + Telur\n",
      "Tanggal 9 Bekal Nasi + Ikan\n",
      "Tanggal 10 Bekal Nasi + Tahu & Tempe\n",
      "Tanggal 11 Bekal Nasi + Telur\n",
      "Tanggal 12 Bekal Nasi + Ikan\n",
      "Tanggal 13 Bekal Nasi + Tahu & Tempe\n",
      "Tanggal 14 libur\n",
      "Tanggal 15 Bekal Nasi + Telur\n",
      "Tanggal 16 Bekal Nasi + Ikan\n",
      "Tanggal 17 Bekal Nasi + Tahu & Tempe\n",
      "Tanggal 18 Bekal Nasi + Telur\n",
      "Tanggal 19 Bekal Nasi + Ikan\n",
      "Tanggal 20 Bekal Nasi + Tahu & Tempe\n",
      "Tanggal 21 libur\n",
      "Tanggal 22 Bekal Nasi + Telur\n",
      "Tanggal 23 Bekal Nasi + Ikan\n",
      "Tanggal 24 Bekal Nasi + Tahu & Tempe\n",
      "Tanggal 25 Bekal Nasi + Telur\n",
      "Tanggal 26 Bekal Nasi + Ikan\n",
      "Tanggal 27 Bekal Nasi + Tahu & Tempe\n",
      "Tanggal 28 libur\n",
      "Tanggal 29 Bekal Nasi + Telur\n",
      "Tanggal 30 Bekal Nasi + Ikan\n"
     ]
    },
    {
     "data": {
      "text/plain": [
       "Ellipsis"
      ]
     },
     "execution_count": 4,
     "metadata": {},
     "output_type": "execute_result"
    }
   ],
   "source": [
    "# buat for loop yang bisa menentukan jadwal bekal yang dibawa\n",
    "bekal = [\"Nasi + Telur\", \"Nasi + Ikan\", \"Nasi + Tahu & Tempe\"]\n",
    "# gunakan range untuk menentukan tanggal\n",
    "# sesuaikan dengan kondisi kerja seperti hari kerja dimulai dari senin - sabtu\n",
    "index = 0\n",
    "for i in range(1,31):\n",
    "    if i % 7 == 0:\n",
    "        print(f\"Tanggal {i} libur\")\n",
    "        continue\n",
    "    print(f\"Tanggal {i} Bekal {bekal[index]}\")\n",
    "    index += 1\n",
    "    if index > 2:\n",
    "        index = 0\n",
    "..."
   ]
  },
  {
   "cell_type": "markdown",
   "id": "e5e66c48",
   "metadata": {},
   "source": [
    "## **Case Study 2: TV Quiz**\n",
    "___\n"
   ]
  },
  {
   "cell_type": "markdown",
   "id": "b5765f92",
   "metadata": {},
   "source": [
    "Sebuah acara di televisi yang diikuti oleh 200 orang sedang membuat quiz dan akan mengambil 3 volunteer dari penonton. TV tersebut membuat cara perhitungan yang unik untuk mengambil penonton secara acak"
   ]
  },
  {
   "cell_type": "markdown",
   "id": "33213b90",
   "metadata": {},
   "source": [
    "Untuk volunteer pertama ambil penonton dengan ketentuan nomor urut yang bisa dibagi 7 dan merupakan hasil perkalian angka 5. Jika ada lebih satu bilangan ambil bilangan dengan urutan **ke 2 dari belakang**"
   ]
  },
  {
   "cell_type": "code",
   "execution_count": 13,
   "id": "50d89b9d",
   "metadata": {},
   "outputs": [],
   "source": [
    "penonton_terpilih = list()"
   ]
  },
  {
   "cell_type": "code",
   "execution_count": 14,
   "id": "ca6dfc39",
   "metadata": {},
   "outputs": [
    {
     "name": "stdout",
     "output_type": "stream",
     "text": [
      "Penonton yang memenuhi persyaratan adalah nomor [35, 70, 105, 140, 175]\n",
      "Penonton Terpilih pertama adalah penonton dengan nomor urut : 140\n"
     ]
    }
   ],
   "source": [
    "# buatlah sebuah empty list untuk menyimpan seluruh penonton yang terpilih\n",
    "list_peserta = list()\n",
    "\n",
    "for i in range(1, 201):\n",
    "    if i%7 == 0 and i%5 == 0:\n",
    "        list_peserta.append(i)\n",
    "\n",
    "print(f\"Penonton yang memenuhi persyaratan adalah nomor {list_peserta}\")\n",
    "print(f\"Penonton Terpilih pertama adalah penonton dengan nomor urut : {list_peserta[-2]}\")\n",
    "\n",
    "penonton_terpilih.append(list_peserta[-2])"
   ]
  },
  {
   "cell_type": "markdown",
   "id": "97f56cb3",
   "metadata": {},
   "source": [
    "Untuk volunteer ke dua adalah penonton dengan nomor urut yang angkanya kurang dari 50 dan merupakan hasil perkalian dari angka 11. Jika ada lebih dari satu angka ambil bilangan **ke dua dari depan**."
   ]
  },
  {
   "cell_type": "code",
   "execution_count": 15,
   "id": "500a0be5",
   "metadata": {},
   "outputs": [
    {
     "name": "stdout",
     "output_type": "stream",
     "text": [
      "Penonton yang memenuhi persyaratan adalah nomor [11, 22, 33, 44]\n",
      "Penonton Terpilih kedua adalah penonton dengan nomor urut : 33\n"
     ]
    }
   ],
   "source": [
    "# buatlah sebuah empty list untuk menyimpan seluruh penonton yang terpilih\n",
    "list_peserta = list()\n",
    "\n",
    "for i in range(1, 201):\n",
    "    if i < 50 and i%11 == 0:\n",
    "        list_peserta.append(i)\n",
    "\n",
    "print(f\"Penonton yang memenuhi persyaratan adalah nomor {list_peserta}\")\n",
    "print(f\"Penonton Terpilih kedua adalah penonton dengan nomor urut : {list_peserta[2]}\")\n",
    "\n",
    "penonton_terpilih.append(list_peserta[2])"
   ]
  },
  {
   "cell_type": "markdown",
   "id": "9767a7c9",
   "metadata": {},
   "source": [
    "Untuk volunteer ke tiga adalah penonton yang memiliki angka total penjumlahan dari angka kelipatan 8 antara 50 sampai 100. Jika hasilnya lebih dari satu angka, ambil **angka yang paling belakang**\n"
   ]
  },
  {
   "cell_type": "code",
   "execution_count": 16,
   "id": "03c8a772",
   "metadata": {},
   "outputs": [
    {
     "name": "stdout",
     "output_type": "stream",
     "text": [
      "Penonton yang memenuhi persyaratan adalah nomor [56, 64, 72, 80, 88, 96]\n",
      "Penonton Terpilih ketiga adalah penonton dengan nomor urut : 96\n"
     ]
    }
   ],
   "source": [
    "# buatlah sebuah empty list untuk menyimpan seluruh penonton yang terpilih\n",
    "list_peserta = list()\n",
    "\n",
    "for i in range(1, 201):\n",
    "    if i >= 50 and i <= 100 and i%8 == 0:\n",
    "        list_peserta.append(i)\n",
    "\n",
    "print(f\"Penonton yang memenuhi persyaratan adalah nomor {list_peserta}\")\n",
    "print(f\"Penonton Terpilih ketiga adalah penonton dengan nomor urut : {list_peserta[-1]}\")\n",
    "\n",
    "penonton_terpilih.append(list_peserta[-1])"
   ]
  },
  {
   "cell_type": "code",
   "execution_count": 17,
   "id": "46075f94",
   "metadata": {},
   "outputs": [
    {
     "name": "stdout",
     "output_type": "stream",
     "text": [
      "Penonton Terpilih untuk mengikuti quiz adalah [140, 33, 96]\n"
     ]
    }
   ],
   "source": [
    "print(f\"Penonton Terpilih untuk mengikuti quiz adalah {penonton_terpilih}\")"
   ]
  },
  {
   "cell_type": "markdown",
   "id": "9654817d",
   "metadata": {},
   "source": [
    "## **Case Study 3: Total Belanja**\n",
    "___\n"
   ]
  },
  {
   "cell_type": "markdown",
   "id": "1803e699",
   "metadata": {},
   "source": [
    "Bu Surti akan berbelanja di swalayan dengan Bu Mima dan Bu Rani\n",
    "\n",
    "\n",
    "```\n",
    "belanjaan ibu surti = 20.000, 90.000, 40.000, 160.500\n",
    "belanjaan ibu mima = 31.000, 43.000, 65.000, 100.000\n",
    "belanjaan ibu rani = 12.000, 200.000, 61.000, 10.000\n",
    "```"
   ]
  },
  {
   "cell_type": "code",
   "execution_count": 53,
   "id": "aa1ac368",
   "metadata": {},
   "outputs": [],
   "source": [
    "belanja_surti = [20000, 80000, 40000, 150500]\n",
    "belanja_mima = [31000, 43000, 65000, 105000]\n",
    "belanja_rani = [12000, 200000, 61000, 10000]"
   ]
  },
  {
   "cell_type": "code",
   "execution_count": 41,
   "id": "1e0d3817",
   "metadata": {},
   "outputs": [
    {
     "name": "stdout",
     "output_type": "stream",
     "text": [
      "Total belanja ibu Surti = Rp 290500\n",
      "Total belanja ibu Mima = Rp 244000\n",
      "Total belanja ibu Rani = Rp 283000\n"
     ]
    }
   ],
   "source": [
    "cek = 0\n",
    "total_surti = 0\n",
    "total_mima = 0\n",
    "total_rani = 0\n",
    "\n",
    "while cek < len(belanja_surti):\n",
    "    total_surti += belanja_surti[cek]\n",
    "    total_mima += belanja_mima[cek]\n",
    "    total_rani += belanja_rani[cek]\n",
    "    cek += 1\n",
    "print(f\"Total belanja ibu Surti = Rp {total_surti}\")\n",
    "print(f\"Total belanja ibu Mima = Rp {total_mima}\")\n",
    "print(f\"Total belanja ibu Rani = Rp {total_rani}\")"
   ]
  },
  {
   "cell_type": "code",
   "execution_count": 54,
   "id": "15b5ecaa",
   "metadata": {},
   "outputs": [
    {
     "name": "stdout",
     "output_type": "stream",
     "text": [
      "Total belanja ibu Surti = Rp 285185.0\n",
      "Total belanja ibu Mima = Rp 240200.0\n",
      "Total belanja ibu Rani = Rp 276390.0\n"
     ]
    }
   ],
   "source": [
    "diskon = [0.01, 0.03]\n",
    "\n",
    "cek = 0\n",
    "total_surti = 0\n",
    "total_mima = 0\n",
    "total_rani = 0\n",
    "\n",
    "while cek < len(belanja_surti):\n",
    "    if belanja_surti[cek] > 50000 and belanja_surti[cek] < 100000:\n",
    "        belanja_surti[cek] = belanja_surti[cek] - (belanja_surti[cek]*diskon[0])\n",
    "    elif belanja_surti[cek] > 100000:\n",
    "        belanja_surti[cek] = belanja_surti[cek] - (belanja_surti[cek]*diskon[1])\n",
    "    else:\n",
    "        pass\n",
    "    if belanja_mima[cek] > 50000 and belanja_mima[cek] < 100000:\n",
    "        belanja_mima[cek] = belanja_mima[cek] - (belanja_mima[cek]*diskon[0])\n",
    "    elif belanja_mima[cek] > 100000:\n",
    "        belanja_mima[cek] = belanja_mima[cek] - (belanja_mima[cek]*diskon[1])\n",
    "    else:\n",
    "        pass\n",
    "    if belanja_rani[cek] > 50000 and belanja_rani[cek] < 100000:\n",
    "        belanja_rani[cek] = belanja_rani[cek] - (belanja_rani[cek]*diskon[0])\n",
    "    elif belanja_rani[cek] > 100000:\n",
    "        belanja_rani[cek] = belanja_rani[cek] - (belanja_rani[cek]*diskon[1])\n",
    "    else:\n",
    "        pass\n",
    "    \n",
    "    total_surti += belanja_surti[cek]\n",
    "    total_mima += belanja_mima[cek]\n",
    "    total_rani += belanja_rani[cek]\n",
    "    cek += 1\n",
    "print(f\"Total belanja ibu Surti = Rp {total_surti}\")\n",
    "print(f\"Total belanja ibu Mima = Rp {total_mima}\")\n",
    "print(f\"Total belanja ibu Rani = Rp {total_rani}\")"
   ]
  },
  {
   "cell_type": "markdown",
   "id": "339c9b9d",
   "metadata": {},
   "source": [
    "## **Case Study 5: Inventori Toko**\n",
    "___\n"
   ]
  },
  {
   "cell_type": "markdown",
   "id": "4e6ff038",
   "metadata": {},
   "source": [
    "Sudah akhir minggu, Indra ingin mengetahui daftar barang jualan agar bisa dilakukan restock barang. Daftar inventori toko Indra sebagai berikut\n",
    "\n",
    "|Nama Barang|Jumlah|\n",
    "|-|-|\n",
    "|Sandal Angsa|4|\n",
    "|Mie Selera|15|\n",
    "|Kopi Putih|20|\n",
    "|Kopi Kapal Terbakar|12|\n",
    "|Sabun Kehidupan|7|\n",
    "|Sampo Matahari|11|\n",
    "|Lombok|3|\n",
    "|Bawang Merah|2|\n",
    "|Bawang Putih|3|\n",
    "|Kecap EFG |6|\n"
   ]
  },
  {
   "cell_type": "markdown",
   "id": "e8c66810",
   "metadata": {},
   "source": [
    "Buatlah list yang menyimpan list lain (list of list) dari inventory toko tersebut\n",
    "\n",
    "\n",
    "```\n",
    "Keterangan\n",
    "- bentuk list = [[nama_barang, jumlah], ...]\n",
    "```\n",
    "\n"
   ]
  },
  {
   "cell_type": "code",
   "execution_count": 56,
   "id": "adce684e",
   "metadata": {},
   "outputs": [
    {
     "name": "stdout",
     "output_type": "stream",
     "text": [
      "[['Sandal Angsa', 4], ['Mie Selera', 15], ['Kopi Putih', 20], ['Kopi Kapal Terbakar', 12], ['Sabun Kehidupan', 7], ['Sampo Matahari', 11], ['Lombok', 3], ['Bawang Merah', 2], ['Bawang Putih', 3], ['Kecap EFG', 6]]\n"
     ]
    }
   ],
   "source": [
    "# buatlah variabel dan list of list yang menyimpan inventory toko\n",
    "inventori_toko = [['Sandal Angsa', 4], ['Mie Selera', 15], ['Kopi Putih', 20], ['Kopi Kapal Terbakar', 12], ['Sabun Kehidupan', 7], ['Sampo Matahari', 11], ['Lombok', 3], ['Bawang Merah', 2], ['Bawang Putih', 3], ['Kecap EFG', 6]]\n",
    "\n",
    "# kemudian print list of list tersebut\n",
    "print(inventori_toko)"
   ]
  },
  {
   "cell_type": "code",
   "execution_count": 58,
   "id": "14dbe7a8",
   "metadata": {},
   "outputs": [
    {
     "name": "stdout",
     "output_type": "stream",
     "text": [
      "{'Overweight': 2, 'Underweight': 0}\n"
     ]
    }
   ],
   "source": [
    "# Your code here\n",
    "status = {\"Overweight\": 0,\n",
    "    \"Underweight\": 0}\n",
    "\n",
    "def identify_health_risks(bmi_values):\n",
    "    for i in range(len (bmi_values)):\n",
    "        if bmi_values[i] > 25:\n",
    "            status[\"Overweight\"] += 1 \n",
    "        elif bmi_values[i] < 18.5:\n",
    "            status[\"Underweight\"] += 1\n",
    "        else:\n",
    "            pass\n",
    "    return status\n",
    "\n",
    "\n",
    "# Input\n",
    "bmi_values = [25, 30, 18.5, 28, 21]\n",
    "result = identify_health_risks(bmi_values)\n",
    "print(result)"
   ]
  },
  {
   "cell_type": "code",
   "execution_count": 64,
   "id": "b88a04e5",
   "metadata": {},
   "outputs": [
    {
     "name": "stdout",
     "output_type": "stream",
     "text": [
      "100\n"
     ]
    }
   ],
   "source": [
    "# Your code here\n",
    "\n",
    "\n",
    "# Input\n",
    "sales_data = [\n",
    "    {'units_sold': 100, 'revenue': 1000.0},\n",
    "    {'units_sold': 200, 'revenue': 2000.0},\n",
    "    {'units_sold': 150, 'revenue': 1500.0}\n",
    "]\n",
    "sales_data[0]\n",
    "\n",
    "print((sales_data[0][\"units_sold\"]))"
   ]
  }
 ],
 "metadata": {
  "kernelspec": {
   "display_name": "base",
   "language": "python",
   "name": "python3"
  },
  "language_info": {
   "codemirror_mode": {
    "name": "ipython",
    "version": 3
   },
   "file_extension": ".py",
   "mimetype": "text/x-python",
   "name": "python",
   "nbconvert_exporter": "python",
   "pygments_lexer": "ipython3",
   "version": "3.12.4"
  }
 },
 "nbformat": 4,
 "nbformat_minor": 5
}
