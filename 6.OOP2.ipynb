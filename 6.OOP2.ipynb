{
 "cells": [
  {
   "cell_type": "markdown",
   "id": "107219fb",
   "metadata": {},
   "source": [
    "# **Pertemuan 10 - Object Oriented Programming II**\n",
    "\n",
    "Python - Sekolah Data - Pacmann Academy"
   ]
  },
  {
   "cell_type": "markdown",
   "id": "0c4cece5",
   "metadata": {},
   "source": [
    "# Inheritance I"
   ]
  },
  {
   "cell_type": "markdown",
   "id": "1f85c2ff",
   "metadata": {},
   "source": [
    "Pada pertemuan sebelumnya kita sudah belajar tentang konsep Object Oriented Programming (OOP). Pada materi ini kita akan belajar konsep lanjutannya mengenai kelas di dalam Python yaitu:\n",
    "- Hierarchies\n",
    "- Inheritance"
   ]
  },
  {
   "cell_type": "markdown",
   "id": "204d12a2",
   "metadata": {},
   "source": [
    "Seperti yang dijelaskan pada materi sebelumnya, salah satu tujuan memakai OOP adalah untuk menghindari pembuatan kode yang berulang-ulang, yang dimana konsep ini dinamakan konsep \"DRY\" (Don't Repeat Yourself).\n",
    "\n",
    "Untuk mendukung konsep DRY tersebut, maka digunakan konsep _hierarchy_ dan _inheritance_ di dalam Python."
   ]
  },
  {
   "cell_type": "markdown",
   "id": "c83994f6",
   "metadata": {},
   "source": [
    "## Konsep\n",
    "\n",
    "- Kelas dalam python dapat memiliki hirarki, yaitu kelas yang mewarisi atribut kelas lain.\n",
    "- Hierarki digunakan untuk berbagi atribut yang sama pada beberapa kelas.\n",
    "\n",
    "<img src=\"https://www.python-course.eu/images/vehicles_classification.png\" alt=\"Drawing\" width= 600px;/>\n",
    "\n",
    "<small>[Source](https://www.python-course.eu/images/vehicles_classification.png)</small>\n"
   ]
  },
  {
   "cell_type": "markdown",
   "id": "2c989cbf",
   "metadata": {},
   "source": [
    "- Dalam hierarki terdapat 2 komponen utama, yaitu **parent class** dan **child class**.\n",
    "- Dalam membuat kelas tersebut tidak berbeda dengan membuat kelas pada umumnya."
   ]
  },
  {
   "cell_type": "markdown",
   "id": "fd3c80fa",
   "metadata": {},
   "source": [
    "## Inheritance"
   ]
  },
  {
   "cell_type": "markdown",
   "id": "cbd7c727",
   "metadata": {},
   "source": [
    "Inheritance merupakan konsep dalam Object Oriented Programming yang memungkinkan untuk membuat suatu kelas dengan didasarkan pada kelas yang sudah ada sehingga mewarisi semua method dan atributnya.\n"
   ]
  },
  {
   "cell_type": "markdown",
   "id": "aa20b42f",
   "metadata": {},
   "source": [
    "<img src=\"https://sekolahdata-assets.s3.ap-southeast-1.amazonaws.com/notebook-images/mds-python-indo/10-2-1.png\" alt=\"Drawing\" width= 600px;/>\n"
   ]
  },
  {
   "cell_type": "markdown",
   "id": "1dabb832",
   "metadata": {},
   "source": [
    "- Atribut kelas **parent** akan dibagikan kepada kelas **child**, istilah dari atribut ini adalah **atribut inheritance** atau atribut turunan/warisan.\n",
    "- Kelas Anjing dan Kucing akan mewarisi atribut nama dan umur dari kelas Binatang.\n",
    "- Lalu apa hubungan antara class anjing dan kucing?\n",
    "- Antar kelas tersebut tidak ada hubungan secara langsung. Namun biasanya hubungan antar 2 class ini dinamakan `sibling class`.\n",
    "- Children class itu juga dapat memiliki method atau attribute sendiri"
   ]
  },
  {
   "cell_type": "markdown",
   "id": "7e26408b",
   "metadata": {},
   "source": [
    "### How to Use Inheritance?"
   ]
  },
  {
   "cell_type": "markdown",
   "id": "39f1e2a3",
   "metadata": {},
   "source": [
    "Contoh pembuatan **Parent Class** :\n",
    "Tiap class dapat menjadi **parent class**, sehingga syntax yang digunakan akan sama dalam pembuatan **class** pada umumnya."
   ]
  },
  {
   "cell_type": "code",
   "execution_count": 1,
   "id": "c8abf59e",
   "metadata": {},
   "outputs": [],
   "source": [
    "# Parent Class\n",
    "class Binatang():\n",
    "    def __init__(self,nama,umur):\n",
    "        self.nama = nama\n",
    "        self.umur = umur"
   ]
  },
  {
   "cell_type": "markdown",
   "id": "8f1e246a",
   "metadata": {},
   "source": [
    "Bentuk umum untuk pembuatan Inheritance Class sebagai berikut:\n",
    "```python\n",
    "class <nama_kelas_turunan>(<nama_kelas_parent>):\n",
    "    <atribut-atribut>\n",
    "    <method-method>\n",
    "```\n",
    "\n",
    "Contoh pembuatan **Child Class** :\n",
    "Untuk membuat sebuah class yang **inherit (mewarisi)** fungsi dari class lain, perlu dituliskan **parent class** sebagai sebuah parameter ketika membuat **child class**."
   ]
  },
  {
   "cell_type": "code",
   "execution_count": 2,
   "id": "6cdc4342",
   "metadata": {},
   "outputs": [],
   "source": [
    "# Child Class\n",
    "class Anjing(Binatang):    # Child class (subclass) of Binatang\n",
    "    pass\n",
    "\n",
    "# Child Class\n",
    "class Kucing(Binatang):    # Child class (subclass) of Binatang\n",
    "    pass"
   ]
  },
  {
   "cell_type": "markdown",
   "id": "dbe00327",
   "metadata": {},
   "source": [
    "* **Note:** **Parent class** harus di run/eksekusi terlebih dahulu agar **Child class** dapat dijalankan."
   ]
  },
  {
   "cell_type": "code",
   "execution_count": 3,
   "id": "0371d596",
   "metadata": {},
   "outputs": [
    {
     "data": {
      "text/plain": [
       "'Pumpkin Pie'"
      ]
     },
     "execution_count": 3,
     "metadata": {},
     "output_type": "execute_result"
    }
   ],
   "source": [
    "# jalankan code di bawah ini\n",
    "instance_hewan = Anjing(\"Pumpkin Pie\",4)\n",
    "instance_hewan.nama"
   ]
  },
  {
   "cell_type": "code",
   "execution_count": 4,
   "id": "644888fe",
   "metadata": {},
   "outputs": [],
   "source": [
    "# child class of Anjing\n",
    "class Bulldog(Anjing):\n",
    "    pass"
   ]
  },
  {
   "cell_type": "code",
   "execution_count": 5,
   "id": "c529852e",
   "metadata": {},
   "outputs": [
    {
     "data": {
      "text/plain": [
       "'rambo'"
      ]
     },
     "execution_count": 5,
     "metadata": {},
     "output_type": "execute_result"
    }
   ],
   "source": [
    "instance_hewan_2 = Bulldog(\"rambo\",9)\n",
    "instance_hewan_2.nama"
   ]
  },
  {
   "cell_type": "markdown",
   "id": "e6149d61",
   "metadata": {},
   "source": [
    "# Inheritance II"
   ]
  },
  {
   "cell_type": "markdown",
   "id": "fe22db15",
   "metadata": {},
   "source": [
    "---\n",
    "## Menambahkan Data atau Attribute"
   ]
  },
  {
   "cell_type": "markdown",
   "id": "b3708262",
   "metadata": {},
   "source": [
    "### Inisiasi Parent Class\n",
    "- Pada contoh sebelumnya, child class selalu diberi `pass`.\n",
    "- Sehingga child class selalu mewarisi semua atribut dari parent class.\n",
    "- Namun bagaimana jika child class ingin memiliki atribut sendiri?\n",
    "- Caranya adalah kita tetap menggunakan method `__init__()` seperti yang sudah kita pelajari di materi sebelumnya"
   ]
  },
  {
   "cell_type": "code",
   "execution_count": 6,
   "id": "b891d0ef",
   "metadata": {},
   "outputs": [],
   "source": [
    "# Parent Class\n",
    "class Binatang():    \n",
    "    def __init__(self,nama):\n",
    "        self.nama = nama\n",
    "        \n",
    "    def __str__(self):\n",
    "        return \"Animal:\"+self.nama"
   ]
  },
  {
   "cell_type": "markdown",
   "id": "332c508c",
   "metadata": {},
   "source": [
    "Contoh ketika menambahkan `__init__()` ke dalam class **Kucing** dan membuat attribute baru `umur`:"
   ]
  },
  {
   "cell_type": "code",
   "execution_count": 7,
   "id": "58828792",
   "metadata": {},
   "outputs": [],
   "source": [
    "class Kucing(Binatang):\n",
    "    def __init__(self, nama, umur):\n",
    "        Binatang.__init__(self, nama)    # Menggunakan nama kelas, ada atribut self yang diberikan ke parent\n",
    "        self.umur = umur    # atribut baru"
   ]
  },
  {
   "cell_type": "markdown",
   "id": "a30a3a46",
   "metadata": {},
   "source": [
    "Dengan cara ini, atribut `umur` akan hanya muncul pada `Kucing`."
   ]
  },
  {
   "cell_type": "markdown",
   "id": "d7f8bb0d",
   "metadata": {},
   "source": [
    "**Note:** fungsi `__init__()` pada **child class** akan **overrides(menimpa)** fungsi `__init__()` dari **parent class** yang diwariskan. Ketika kita menambahkan fungsi `__init__()`, **child class** tidak akan lagi mewarisi fungsi `__init__()` dari **parent class**\n",
    "\n",
    "Untuk tetap menyimpan pewarisan dari fungsi `__init__()` **parent** maka perlu dilakukan pemanggilan fungsi `__init__()` pada **parent**"
   ]
  },
  {
   "cell_type": "code",
   "execution_count": 10,
   "id": "34038540",
   "metadata": {},
   "outputs": [
    {
     "name": "stdout",
     "output_type": "stream",
     "text": [
      "miu\n"
     ]
    }
   ],
   "source": [
    "hewan1 = Kucing(\"miu\", 3)\n",
    "print(hewan1.nama)"
   ]
  },
  {
   "cell_type": "code",
   "execution_count": 11,
   "id": "511d10f9",
   "metadata": {},
   "outputs": [],
   "source": [
    "class Anjing(Binatang):    # Child class (subclass) of Binatang\n",
    "    pass"
   ]
  },
  {
   "cell_type": "code",
   "execution_count": 12,
   "id": "3ab3d98b",
   "metadata": {},
   "outputs": [
    {
     "ename": "TypeError",
     "evalue": "Binatang.__init__() takes 2 positional arguments but 3 were given",
     "output_type": "error",
     "traceback": [
      "\u001b[1;31m---------------------------------------------------------------------------\u001b[0m",
      "\u001b[1;31mTypeError\u001b[0m                                 Traceback (most recent call last)",
      "Cell \u001b[1;32mIn[12], line 1\u001b[0m\n\u001b[1;32m----> 1\u001b[0m hewan2 \u001b[38;5;241m=\u001b[39m Anjing(\u001b[38;5;124m\"\u001b[39m\u001b[38;5;124mMax\u001b[39m\u001b[38;5;124m\"\u001b[39m, \u001b[38;5;241m2\u001b[39m)\n\u001b[0;32m      2\u001b[0m \u001b[38;5;28mprint\u001b[39m(hewan2\u001b[38;5;241m.\u001b[39mumur)\n",
      "\u001b[1;31mTypeError\u001b[0m: Binatang.__init__() takes 2 positional arguments but 3 were given"
     ]
    }
   ],
   "source": [
    "hewan2 = Anjing(\"Max\", 2)\n",
    "print(hewan2.umur)"
   ]
  },
  {
   "cell_type": "markdown",
   "id": "b3a8cd16",
   "metadata": {},
   "source": [
    "- Perlu perhatikan juga ketika melakukan inherit sebuah attribut di dalam child class\n",
    "- Pada fungsi `__init__()` child class kita juga perlu memasukkan parameter dari attribute parent class atau sesuaikan dengan kebutuhan\n",
    "- Karena jika dijalankan akan terjadi error"
   ]
  },
  {
   "cell_type": "markdown",
   "id": "cf06a952",
   "metadata": {},
   "source": [
    "## Menggunakan fungsi `super()`"
   ]
  },
  {
   "cell_type": "markdown",
   "id": "d707c231",
   "metadata": {},
   "source": [
    "Python juga memiliki fungsi `super()` yang akan membuat **child class** mewarisi semua method dan properti **parent class**"
   ]
  },
  {
   "cell_type": "markdown",
   "id": "e77f5c7d",
   "metadata": {},
   "source": [
    "- Pada contoh sebelumnya ditunjukkan bahwa jika child class ingin memiliki suatu atribut data sendiri.\n",
    "- Maka parent class harus diinisiasi di dalam method `__init__`.\n",
    "- Terdapat cara lain untuk menginisiasi parent class.\n",
    "- Cara lain tersebut adalah dengan menggunakan `super()`\n",
    "- Atau juga bisa disebut bahwa fungsi `super()` ini akan membuat **child class** akan mewarisi semua method dan attribute dari **parent class**"
   ]
  },
  {
   "cell_type": "code",
   "execution_count": 13,
   "id": "fc22fbb8",
   "metadata": {},
   "outputs": [],
   "source": [
    "class Kelinci(Binatang):\n",
    "    def __init__(self,nama,umur):\n",
    "        super().__init__(nama)    # Memanggil __init__ menggunakan fungsi super(), tidak perlu self\n",
    "        self.umur = umur"
   ]
  },
  {
   "cell_type": "markdown",
   "id": "d0721a3d",
   "metadata": {},
   "source": [
    "---\n",
    "## Menambahkan Method"
   ]
  },
  {
   "cell_type": "markdown",
   "id": "80dcedc5",
   "metadata": {},
   "source": [
    "* Pada sebelumnya, dijelaskan bahwa untuk menambah atribut berupa data, maka dibutuhkan inisiasi parent class dengan memanggil parent class tersebut atau dengan menggunakan `super()`\n",
    "* Namun, bagaimana jika ingin membuat metode baru selain yang diwariskan? Kita juga dapat menambahkan method baru ke dalam  **child class Sapi**\n",
    "* Untuk menambah method pada kelas, cukup membuat definisi fungsi tersebut seperti biasa"
   ]
  },
  {
   "cell_type": "code",
   "execution_count": 14,
   "id": "ebad3e58",
   "metadata": {},
   "outputs": [],
   "source": [
    "class Binatang:\n",
    "    def __init__(self, nama):\n",
    "        self.nama = nama\n",
    "    \n",
    "    def __str__(self):\n",
    "        return \"Animal:\"+self.nama\n",
    "        \n",
    "    def jalan(self):\n",
    "        print(f\"{self.nama} sedang berjalan.\")"
   ]
  },
  {
   "cell_type": "code",
   "execution_count": 15,
   "id": "9bd53644",
   "metadata": {},
   "outputs": [],
   "source": [
    "class Sapi(Binatang):\n",
    "    def suara(self):\n",
    "        print(\"Mooooooo\")"
   ]
  },
  {
   "cell_type": "code",
   "execution_count": 16,
   "id": "2e0cd0c4",
   "metadata": {},
   "outputs": [
    {
     "name": "stdout",
     "output_type": "stream",
     "text": [
      "Mooooooo\n"
     ]
    }
   ],
   "source": [
    "hewan5 = Sapi(\"Sapi'i\")\n",
    "hewan5.suara()"
   ]
  },
  {
   "cell_type": "markdown",
   "id": "c9e69e7a",
   "metadata": {},
   "source": [
    "**Note:** Jika kita menambahkan method pada class **child** dengan nama yang sama dengan fungsi yang terdapat dalam **parent class** maka pewarisan method **parent** akan **overriden(tertimpa)** oleh method pada **child class**"
   ]
  },
  {
   "cell_type": "code",
   "execution_count": 17,
   "id": "4c16b658",
   "metadata": {},
   "outputs": [],
   "source": [
    "class Binatang:\n",
    "    def __init__(self, nama):\n",
    "        self.nama = nama\n",
    "    \n",
    "    def __str__(self):\n",
    "        return \"Animal:\"+self.nama\n",
    "        \n",
    "    def jalan(self):\n",
    "        print(f\"{self.nama} sedang berjalan.\")"
   ]
  },
  {
   "cell_type": "markdown",
   "id": "c2424206",
   "metadata": {},
   "source": [
    "* Misal, dari parent `Binatang` kita membuat children `Ikan`.\n",
    "* Dimana method `jalan` pada ikan, harusnya berisi berenang."
   ]
  },
  {
   "cell_type": "code",
   "execution_count": 18,
   "id": "69b7eb01",
   "metadata": {},
   "outputs": [],
   "source": [
    "class Ikan(Binatang):\n",
    "    def __init__(self,nama,umur):\n",
    "        Binatang.__init__(self,nama)\n",
    "    \n",
    "    def jalan(self):\n",
    "        print(f\"{self.nama} sedang berenang, ikan nggak bisa jalan.\")"
   ]
  },
  {
   "cell_type": "code",
   "execution_count": 19,
   "id": "eecd7f7f",
   "metadata": {},
   "outputs": [
    {
     "name": "stdout",
     "output_type": "stream",
     "text": [
      "Joni sedang berenang, ikan nggak bisa jalan.\n"
     ]
    }
   ],
   "source": [
    "ikan1 = Ikan('Joni',2)\n",
    "ikan1.jalan()"
   ]
  },
  {
   "cell_type": "code",
   "execution_count": null,
   "id": "b680fb91",
   "metadata": {},
   "outputs": [],
   "source": [
    "# Isi titik - titik di bawah ini\n",
    "absen = int(input(\"Masukan Jumlah Absensi Mahasiswa :\"))\n",
    "try:\n",
    "    if absen < 3 :\n",
    "        nilai = input(\"Masukan Nilai Mahasiswa :\")\n",
    "\n",
    "        if nilai == \"A\":\n",
    "            print(\"Nilai A\")\n",
    "        elif nilai == \"B\":\n",
    "            print(\"Nilai B\")\n",
    "        elif NILAI == \"C\":\n",
    "            print(\"Nilai C\")\n",
    "        else:\n",
    "            print('Nilai D')\n",
    "    else:\n",
    "        print(\"Mahasiswa dikeluarkan dari mata kuliah\")\n",
    "        \n",
    "except ValueError: \n",
    "    print(\"Nilai Salah\")\n",
    "    \n",
    "except NameError:\n",
    "    print(\"terjadi kesalahan pada penggunaaan variabel\")\n",
    "    \n",
    "finally:\n",
    "    print(\"program berakhir\")"
   ]
  },
  {
   "cell_type": "code",
   "execution_count": 3,
   "id": "daf9b420",
   "metadata": {},
   "outputs": [
    {
     "name": "stdout",
     "output_type": "stream",
     "text": [
      "Smith, John\n"
     ]
    }
   ],
   "source": [
    "# Recommended\n",
    "name = 'John Smith'\n",
    "first_name, last_name = name.split()\n",
    "print(last_name, first_name, sep=', ')"
   ]
  },
  {
   "cell_type": "code",
   "execution_count": null,
   "id": "199fb5d2",
   "metadata": {},
   "outputs": [
    {
     "name": "stdout",
     "output_type": "stream",
     "text": [
      "--Return--\n",
      "None\n",
      "> \u001b[1;32mc:\\users\\lenovo\\appdata\\local\\temp\\ipykernel_22688\\2356235154.py\u001b[0m(9)\u001b[0;36m<module>\u001b[1;34m()\u001b[0m\n",
      "\n",
      "67\n",
      "67\n",
      "67\n",
      "67\n",
      "67\n",
      "67\n",
      "67\n",
      "67\n"
     ]
    }
   ],
   "source": [
    "import pdb\n",
    "\n",
    "produk_motor = {\n",
    "    \"Suzuki Hayabusa\": \"2005\",\n",
    "    \"Ducati Monster\": \"2012\",\n",
    "    \"Honda CB1000\": \"2013\",\n",
    "}\n",
    "\n",
    "pdb.set_trace()\n",
    "\n",
    "for produk, tahun in Produk_motor.items():\n",
    "    print(\"fMotor Sport: {produk} diproduksi pada tahun {produk}\")\n"
   ]
  },
  {
   "cell_type": "code",
   "execution_count": null,
   "id": "fcbfaf04",
   "metadata": {},
   "outputs": [],
   "source": [
    "print(\"Kamu\")"
   ]
  }
 ],
 "metadata": {
  "kernelspec": {
   "display_name": "base",
   "language": "python",
   "name": "python3"
  },
  "language_info": {
   "codemirror_mode": {
    "name": "ipython",
    "version": 3
   },
   "file_extension": ".py",
   "mimetype": "text/x-python",
   "name": "python",
   "nbconvert_exporter": "python",
   "pygments_lexer": "ipython3",
   "version": "3.12.4"
  }
 },
 "nbformat": 4,
 "nbformat_minor": 5
}
