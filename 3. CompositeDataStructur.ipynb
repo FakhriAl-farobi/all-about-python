{
 "cells": [
  {
   "cell_type": "markdown",
   "id": "f121fa8a",
   "metadata": {},
   "source": [
    "### List"
   ]
  },
  {
   "cell_type": "code",
   "execution_count": 15,
   "id": "f7dd3a80",
   "metadata": {},
   "outputs": [
    {
     "name": "stdout",
     "output_type": "stream",
     "text": [
      "4\n",
      "True\n",
      "0\n",
      "3\n",
      "[5, 4, 5, 6]\n"
     ]
    }
   ],
   "source": [
    "#List methods\n",
    "list_1 = [3,4,5,6]\n",
    "list_2 = ['String', 'sstring2']\n",
    "\n",
    "print(len(list_1)) #panjang list\n",
    "list_1.append(5) #add some values\n",
    "list_1.insert(0, 5) #insert value with an index\n",
    "print(3 in list_1) #check if ithis value in a list\n",
    "print(list_1.index(5)) #find index for a value\n",
    "print(list_1.count(5)) #calculate values\n",
    "list_1.remove(3) #remove some value\n",
    "list_1.pop(4) #remve the value which is same number or index\n",
    "\n",
    "print(list_1)"
   ]
  },
  {
   "cell_type": "markdown",
   "id": "5026931d",
   "metadata": {},
   "source": [
    "### Dictionary"
   ]
  },
  {
   "cell_type": "markdown",
   "id": "8dad785b",
   "metadata": {},
   "source": [
    "`Dictionary` merupakan struktur data seperti `list`. Dalam `list`, indeks merupakan bilangan bulat, namun di dalam `dictionary` indeks bisa (hampir) tipe data apa saja.\n",
    "\n",
    "`Dictionary` juga bisa dianggap sebagai pemetaan antara sebuah indeks yang disebut **keys** dan sebuah **value**. Setiap key **memetakan** ke suatu value. Hubungan key dan value ini disebut **key-value pair**.\n",
    "\n",
    "Sebuah `dictionary` dalam python di representasikan dengan tanda **kurung kurawal** `{}`.\n",
    "\n",
    "`key` dan `value` setiap element dipisahkan dengan tanda **titik dua** `:`\n",
    "\n",
    "Lalu, element satu dengan element yang lain dipisahkan oleh **tanda koma** `,`\n",
    "\n",
    "Contoh pendefinisian dictionary:\n",
    "\n",
    "```python\n",
    "NAMA_DICT = {'name': 'Bob',\n",
    "             'age': 25,\n",
    "             'job': 'Dev',\n",
    "             'city': 'New York',\n",
    "             'email': 'bob@web.com'}\n",
    "```\n",
    "\n",
    "\n",
    "`Dictionary` mutable dan immutable. `key` pada `dictionary` tidak dapat diubah, harus dihapus terlebih dahulu. Untuk `value` pada dictionary kita bisa menggantinya, karena value memiliki sifat `mutable`."
   ]
  },
  {
   "cell_type": "markdown",
   "id": "1574fdeb",
   "metadata": {},
   "source": [
    "misalkan:\n",
    "\n",
    "\n",
    "```\n",
    "dict_1 = {'Nama': 'Dani', 'Usia':24}\n",
    "dict_2 = {'Nama': 'Lala', 'Usia':19}\n",
    "```\n",
    "\n",
    "|Fungsi|Method|Penggunaan|Output|\n",
    "|-|-|-|-|\n",
    "|mengetahui panjang dictionary|`len()`|`len(dict_1)`|`2`\n",
    "|mendapatkan element dari key|`get(NAMA_KEY)`|`dict_1.get('Nama')`|`Dani`|\n",
    "|mendapatkan semua key |`keys()`|`dict_1.key()`|`['Nama', 'Usia']`|\n",
    "|mendapatkan semua value|`values()`|`dict_1.values()`|`['Dani', 19']`\n",
    "|mengeluarkan atau menghapus key dan value |`pop()`| `dict_1.pop('Usia')`|`{'Nama':'Dani'}`|\n",
    "|menambah atau menggabungkan data|`update()`|`dict_1.update(dict_2)`|`{'Nama': 'Dani', 'Usia':24, 'Nama': 'Lala', 'Usia':19}`\n",
    "|membuat duplikasi|`copy()`|`dict_1.copy()`|duplikasi dari dict_1\n",
    "|menghapus semua key dan value|`clear()`|`dict_1.clear`|`{}`|\n"
   ]
  },
  {
   "cell_type": "code",
   "execution_count": 1,
   "id": "5325d556",
   "metadata": {},
   "outputs": [
    {
     "name": "stdout",
     "output_type": "stream",
     "text": [
      "Kucing\n"
     ]
    }
   ],
   "source": [
    "dict_1 = {\"Hewan\" : [\"Kucing\", \"Anjing\",\"Ayam\"],\n",
    "          \"Usia\": 16}\n",
    "\n",
    "print(dict_1[\"Hewan\"][0])"
   ]
  },
  {
   "cell_type": "markdown",
   "id": "1cc12060",
   "metadata": {},
   "source": [
    "### Tuple"
   ]
  },
  {
   "cell_type": "markdown",
   "id": "f4394a8f",
   "metadata": {},
   "source": [
    "**Tuple** merupakan sebuah struktur data yang nilainya dapat berupa tipe data apa saja. `Tuple` sangat mirip dengan `list`. Perbedaan pentingnya adalah `tuple` tidak dapat diubah (**immutable**). Sebuah `tuple` dalam Python di representasikan dengan **tanda kurung** `()` dan dipisahkan oleh **tanda koma** `,`\n",
    "\n",
    "Untuk membuat tuple dengan hanya **satu element** saja, kita harus tetap **memasukkan** tanda koma di akhir."
   ]
  },
  {
   "cell_type": "code",
   "execution_count": 4,
   "id": "069eff5d",
   "metadata": {},
   "outputs": [
    {
     "name": "stdout",
     "output_type": "stream",
     "text": [
      "<class 'tuple'>\n",
      "Jeruk\n"
     ]
    }
   ],
   "source": [
    "tuple_1 = ('Jeruk',)\n",
    "print(f'{type(tuple_1)}')\n",
    "print(tuple_1[0])"
   ]
  },
  {
   "cell_type": "markdown",
   "id": "54b056a0",
   "metadata": {},
   "source": [
    "misalkan:\n",
    "\n",
    "\n",
    "```\n",
    "tuple_1 = (3, 3, 4, 5)\n",
    "tuple_2 = ('string_1', 'string_3')\n",
    "```\n",
    "\n",
    "|Fungsi|Method|Penggunaan|Output|\n",
    "|-|-|-|-|\n",
    "|mengetahui panjang tuple|`len()`|`len(tuple_1)`|`4`|\n",
    "|melihat apakah item ada di dalam tuple atau tidak|`in`| `3 in tuple_1`|`True`|\n",
    "|mencari indeks element di dalam tuple|`index(value)`|`tuple_1.index(4)`|`2`|\n",
    "|menghitung suatu element di dalam tuple|`count(value)`|`tuple_1.count(3)`|`2`\n",
    "|menggabungkan dua tuple|`+`|`tuple_1 + tuple_2`|`(3, 3, 4, 5, 'string_1', 'string_3')`\n"
   ]
  },
  {
   "cell_type": "code",
   "execution_count": 7,
   "id": "c495859c",
   "metadata": {},
   "outputs": [
    {
     "name": "stdout",
     "output_type": "stream",
     "text": [
      "(4, 5, 6, 8, 9, 0)\n",
      "<class 'tuple'>\n",
      "0\n"
     ]
    }
   ],
   "source": [
    "a = (4,5,6)\n",
    "b = (8,9,0)\n",
    "\n",
    "list = a + b\n",
    "\n",
    "print(list)\n",
    "print(type(list))\n",
    "print(list.count(3))"
   ]
  },
  {
   "cell_type": "markdown",
   "id": "4cbaa336",
   "metadata": {},
   "source": [
    "### Set"
   ]
  },
  {
   "cell_type": "markdown",
   "id": "e2cd021e",
   "metadata": {},
   "source": [
    "**Set** adalah sebuah struktur data yang memungkinkan kita untuk menyimpan sebuah data dengan tidak berurutan **(unordered)**. Setiap element di dalam set adalah **unique** (tidak ada duplikat).\n",
    "\n",
    "**Set** ini bisa berisi tipe data seperti `string`, `integer`, `float`, bahkan `tuple`. Namun di dalam set tidak diperbolehkan untuk menyimpan tipe data seperti `list`, `set`, atau `dictionary` sebagai sebuah elements.\n",
    "\n",
    "Set sendiri merupakan tipe data yang bisa diubah **(mutable)**, namun **element** pada set tidak bisa dimodifikasi atau di ubah **(immutable)**"
   ]
  },
  {
   "cell_type": "code",
   "execution_count": 8,
   "id": "a8609af5",
   "metadata": {},
   "outputs": [
    {
     "name": "stdout",
     "output_type": "stream",
     "text": [
      "{'Gitar', 'Seruling', 'Drum'}\n"
     ]
    }
   ],
   "source": [
    "# coba jalankan code dibawah ini\n",
    "\n",
    "print({'Gitar', 'Seruling', 'Drum'})"
   ]
  },
  {
   "cell_type": "code",
   "execution_count": 9,
   "id": "4f9922cc",
   "metadata": {},
   "outputs": [
    {
     "name": "stdout",
     "output_type": "stream",
     "text": [
      "{1, 2, 3, 4}\n",
      "{'Apel', 'Alpukat', 'Semangka'}\n"
     ]
    }
   ],
   "source": [
    "# coba jalankan code di bawah\n",
    "num_set = {1, 2, 3, 3, 1, 4}\n",
    "buah_set = {'Semangka', 'Alpukat', 'Apel', 'Semangka', 'Apel'}\n",
    "\n",
    "print(num_set)\n",
    "print(buah_set)"
   ]
  },
  {
   "cell_type": "markdown",
   "id": "24dde0c6",
   "metadata": {},
   "source": [
    "misalkan:\n",
    "\n",
    "\n",
    "```\n",
    "set_1 = {3, 4, 5, 6}\n",
    "set_2 = {1, 2, 3, 6}\n",
    "```\n",
    "\n",
    "|Fungsi|Method|Penggunaan|Output|\n",
    "|-|-|-|-|\n",
    "|mengetahui panjang set|`len()`|`len(set_1)`|`4`|\n",
    "|melihat apakah item ada di dalam set atau tidak|`in`| `3 in set_1`|`True`|\n",
    "|menambah element|`add(value)`|`set_1.add(7)`|`{3, 4, 5, 6, 7}`|\n",
    "|menambah set, list atau tuple ke dalam set|`update(value)`|`set_1.update(set_2)`|`{1, 2, 3, 4, 5, 6}`\n",
    "|menghapus element dari dalam set|`discard(value)`|`set_1.discard(3)`|`{4,5,6}`\n",
    "|Gabungan (Union)|`union(value)`|`set_1.union(set_2)`|`{1, 2, 3, 4, 5, 6}`\n",
    "|Irisan (Intersection)|`intersection(value)`|`set_1.intersection(set_2)`|`{3, 6}`\n"
   ]
  },
  {
   "cell_type": "markdown",
   "id": "ccb053a0",
   "metadata": {},
   "source": [
    "### Study Case 1: Gaji Karyawan Perusahaan\n",
    "___"
   ]
  },
  {
   "cell_type": "markdown",
   "id": "08e2f740",
   "metadata": {},
   "source": [
    "Karyawan Perusahaan T memiliki gaji sebagai berikut\n",
    "\n",
    "|Nama Karyawan | Gaji|\n",
    "|-|-|\n",
    "|Wawan | 4.500.000|\n",
    "|Dilla | 4.000.000|\n",
    "|Leo | 4.000.000|\n",
    "|Ayu| 3.500.000|\n",
    "|Lutfi | 3.200.000|"
   ]
  },
  {
   "cell_type": "markdown",
   "id": "e10d504d",
   "metadata": {},
   "source": [
    "Buatlah sebuah dictionary untuk menyimpan nama dan gaji karyawan Perusahaan T.\n",
    "\n",
    "\n",
    "```\n",
    "Keterangan:\n",
    " - bentuk dictionary = {nama_karyawan:gaji}\n",
    "```\n",
    "\n"
   ]
  },
  {
   "cell_type": "code",
   "execution_count": 19,
   "id": "81c9711d",
   "metadata": {},
   "outputs": [
    {
     "name": "stdout",
     "output_type": "stream",
     "text": [
      "{'Wawan': 4500000, 'Dilla': 4000000, 'Leo': 4000000, 'Ayu': 3500000, 'Lutfi': 3200000}\n"
     ]
    }
   ],
   "source": [
    "# buat variabel dahulu untuk menyimpan dictionary-nya\n",
    "karyawan = {\"Wawan\": 4500000,\n",
    "            \"Dilla\": 4000000,\n",
    "            \"Leo\": 4000000,\n",
    "            \"Ayu\": 3500000,\n",
    "            \"Lutfi\": 3200000}\n",
    "\n",
    "# kemudian print gaji masing-masing karyawan\n",
    "\n",
    "print(karyawan)"
   ]
  },
  {
   "cell_type": "markdown",
   "id": "bbb0c63f",
   "metadata": {},
   "source": [
    "Karena perusahaan T merasa kekurangan karyawan, Pimpinan akan merekrut tiga karyawan baru. Tiga karyawan tersebut adalah\n",
    "\n",
    "|Nama|Gaji|\n",
    "|-|-|\n",
    "|Ezra|3.200.000|\n",
    "|Ricardo|3.200.000|\n",
    "|Samsul|3.500.000|"
   ]
  },
  {
   "cell_type": "code",
   "execution_count": 20,
   "id": "3206d2b0",
   "metadata": {},
   "outputs": [
    {
     "name": "stdout",
     "output_type": "stream",
     "text": [
      "{'Wawan': 4500000, 'Dilla': 4000000, 'Leo': 4000000, 'Ayu': 3500000, 'Lutfi': 3200000, 'Ezra': 3200000, 'Ricardo': 3200000, 'Samsul': 3500000}\n"
     ]
    }
   ],
   "source": [
    "# buat dictionary baru untuk menyimpan karyawan yang baru masuk\n",
    "karyawan_new = {\"Ezra\": 3200000,\n",
    "                \"Ricardo\": 3200000,\n",
    "                \"Samsul\": 3500000}\n",
    "\n",
    "# gunakan method update untuk menambahkan karyawan baru\n",
    "karyawan.update(karyawan_new)\n",
    "\n",
    "# print variabel dictionary yang digunakan untuk menyimpan nama karyawan\n",
    "print(karyawan)"
   ]
  },
  {
   "cell_type": "markdown",
   "id": "fb76bf6f",
   "metadata": {},
   "source": [
    "Leo dipromosikan jabatannya menjadi lebih tinggi karena pekerjaanya yang bagus. Gaji Leo naik menjadi 7.500.000."
   ]
  },
  {
   "cell_type": "code",
   "execution_count": 24,
   "id": "14743265",
   "metadata": {},
   "outputs": [
    {
     "name": "stdout",
     "output_type": "stream",
     "text": [
      "4000000\n",
      "7500000\n"
     ]
    }
   ],
   "source": [
    "# ubah gaji Leo menjadi 7.500.000\n",
    "print(karyawan[\"Leo\"])\n",
    "karyawan[\"Leo\"] = 7500000\n",
    "# print gaji Leo sekarang\n",
    "print(karyawan[\"Leo\"])"
   ]
  },
  {
   "cell_type": "markdown",
   "id": "22de9579",
   "metadata": {},
   "source": [
    "### Study Case 3: Koleksi Mainan"
   ]
  },
  {
   "cell_type": "markdown",
   "id": "fd533e77",
   "metadata": {},
   "source": [
    "Rizki memiliki sebuah koleksi mainan berbentuk hewan yang banyak. Dia memindahkan mainannya ke kardus baru, karena kardus yang lama sudah rusak. Urutan mainan hewan yang dipindahkan adalah seperti berikut.\n",
    "\n",
    "\n",
    "```\n",
    "kuda, anjing, kucing, gajah, kucing, burung, ular, ayam, bebek, jerapah, macan, anjing, burung, kelinci\n",
    "```\n"
   ]
  },
  {
   "cell_type": "code",
   "execution_count": 25,
   "id": "d9035e64",
   "metadata": {},
   "outputs": [
    {
     "name": "stdout",
     "output_type": "stream",
     "text": [
      "('kuda', 'anjing', 'kucing', 'gajah', 'kucing', 'burung', 'ular', 'ayam', 'bebek', 'jerapah', 'macan', 'anjing', 'burung', 'kelinci')\n"
     ]
    }
   ],
   "source": [
    "mainan = ('kuda', 'anjing', 'kucing', 'gajah', 'kucing', 'burung', 'ular', 'ayam', 'bebek', 'jerapah', 'macan', 'anjing', 'burung', 'kelinci')\n",
    "print(mainan)"
   ]
  },
  {
   "cell_type": "markdown",
   "id": "1cce2b05",
   "metadata": {},
   "source": [
    "Saat memasukkan ke dalam kardus baru Rizki sadar bahwa ada mainan hewan yang jumlahnya lebih dari satu.\n",
    "\n",
    "Dengan fungsi `input()` coba munculkan banyak hewan tertentu yang dimiliki Rizki!\n",
    "\n",
    "\n",
    "\n",
    "```\n",
    "Keterangan\n",
    "Misalkan kita ketik mainan hewan kelinci\n",
    "akan muncul jumlah mainan tersebut\n",
    "```\n",
    "\n"
   ]
  },
  {
   "cell_type": "code",
   "execution_count": 27,
   "id": "537d949c",
   "metadata": {},
   "outputs": [
    {
     "name": "stdout",
     "output_type": "stream",
     "text": [
      "Jumlah mainan kucing yang dimiliki rizki sebanyak 1\n"
     ]
    },
    {
     "data": {
      "text/plain": [
       "Ellipsis"
      ]
     },
     "execution_count": 27,
     "metadata": {},
     "output_type": "execute_result"
    }
   ],
   "source": [
    "# buat sebuah variabel untuk menampung input\n",
    "cek = input(\"Masukkan mainan hewan yang ingin diketahui jumlahnya: \")\n",
    "\n",
    "# hitung banyak hewan dalam tuple dengan method count()\n",
    "# masukkan variabel yang dijadikan input tadi ke method count\n",
    "print(f\"Jumlah mainan kucing yang dimiliki rizki sebanyak {mainan.count(cek)}\")\n",
    "\n",
    "# print jumlah mainan hewan yang ingin dicari\n",
    "..."
   ]
  },
  {
   "cell_type": "markdown",
   "id": "57dab1ce",
   "metadata": {},
   "source": [
    "### Case Study 4: Inventori Gudang\n",
    "___\n"
   ]
  },
  {
   "cell_type": "markdown",
   "id": "f8134c89",
   "metadata": {},
   "source": [
    "Perusahaan Z memiliki dua gudang yang digunakan untuk menyimpan barang yang telah selesai di produksi. Pak Handoko selaku pimpinan perusahaan menyuruh data analis di perusahaannya untuk menganalisis barang-barang yang ada di gudang tersebut.\n",
    "\n",
    "```\n",
    "Gudang satu memiliki barang dengan kode K090 K121 K890 K998 K541\n",
    "\n",
    "Gudang dua memiliki barang dengan kode K090 K143 K776 K998 K797\n",
    "```\n",
    "\n",
    "\n",
    "\n"
   ]
  },
  {
   "cell_type": "markdown",
   "id": "99040771",
   "metadata": {},
   "source": [
    "Buatlah set untuk menyimpan kode barang yang ada di dua gudang tersebut."
   ]
  },
  {
   "cell_type": "code",
   "execution_count": 28,
   "id": "c9608b64",
   "metadata": {},
   "outputs": [
    {
     "data": {
      "text/plain": [
       "Ellipsis"
      ]
     },
     "execution_count": 28,
     "metadata": {},
     "output_type": "execute_result"
    }
   ],
   "source": [
    "# buatlah set untuk menyimpan kode barang gudang satu\n",
    "kode_barang1 = {\"K090\", \"K121\", \"K890\", \"K998\", \"K541\"}\n",
    "kode_barang2 = {\"K090\", \"K143\", \"K776\", \"K998\", \"K797\"}\n",
    "\n",
    "# buatlah set untuk menyimpan kode barang gudang dua\n",
    "..."
   ]
  },
  {
   "cell_type": "markdown",
   "id": "55e8461b",
   "metadata": {},
   "source": [
    "Coba gabungkan inventori pada gudang satu dan dua\n",
    "\n",
    "\n",
    "```\n",
    "Keterangan:\n",
    " - gunakan method union()\n",
    "```\n",
    "\n"
   ]
  },
  {
   "cell_type": "code",
   "execution_count": 29,
   "id": "53ce35a2",
   "metadata": {},
   "outputs": [
    {
     "name": "stdout",
     "output_type": "stream",
     "text": [
      "{'K143', 'K121', 'K890', 'K776', 'K797', 'K998', 'K090', 'K541'}\n"
     ]
    }
   ],
   "source": [
    "# buatlah variabel baru untuk menyimpan gabungan dari dua set tersebut\n",
    "# gunakan variabel set gudang pada soal 4A\n",
    "kode_gabung = kode_barang1.union(kode_barang2)\n",
    "\n",
    "# print atau tampilkan set dari variabel baru tersebut\n",
    "print(kode_gabung)"
   ]
  },
  {
   "cell_type": "markdown",
   "id": "b8b95d2c",
   "metadata": {},
   "source": [
    "Pak Handoko ingin tahu kode barang apa saja yang disimpan di gudang satu namun juga disimpan di gudang dua.\n",
    "\n",
    "\n",
    "```\n",
    "Keterangan:\n",
    "- gunakan method intersection()\n",
    "```\n",
    "\n"
   ]
  },
  {
   "cell_type": "code",
   "execution_count": 30,
   "id": "e807284a",
   "metadata": {},
   "outputs": [
    {
     "name": "stdout",
     "output_type": "stream",
     "text": [
      "{'K998', 'K090'}\n"
     ]
    }
   ],
   "source": [
    "# buat variabel untuk menampung hasil method intersection\n",
    "# gunakan variabel set gudang pada soal 4A\n",
    "kode_irisan = kode_barang1.intersection(kode_barang2)\n",
    "\n",
    "# print hasil dari method intersection()\n",
    "print(kode_irisan)"
   ]
  },
  {
   "cell_type": "code",
   "execution_count": null,
   "id": "9319f1d8",
   "metadata": {},
   "outputs": [],
   "source": [
    "# Input\n",
    "dept_a = {\"laptop\", \"mouse\", \"keyboard\", \"monitor\", \"printer\", \"smartwatch\"}\n",
    "dept_b = {\"mouse\", \"keyboard\", \"tablet\", \"smartphone\", \"monitor\", \"printer\", \"camera\"}\n",
    "dept_c = {\"laptop\", \"tablet\", \"smartphone\", \"monitor\", \"printer\", \"router\"}\n",
    "\n",
    "# Your code here\n",
    "intersection_all = dept_a.intersection(dept_b, dept_c)\n",
    "intersection_ab = dept_a.intersection(dept_b)\n",
    "intersection_ac = dept_a.intersection(dept_c)\n",
    "intersection_bc = dept_b.intersection(dept_c)\n",
    "\n",
    "\n",
    "union_all = dept_a.union(dept_b, dept_c)\n",
    "union_ab = dept_a.union(dept_b)\n",
    "union_ac = dept_a.union(dept_c)\n",
    "union_bc = dept_b.union(dept_c)\n",
    "\n",
    "\n",
    "# Don't change code below\n",
    "print(f\"Intersection of all departments: {intersection_all}\")\n",
    "print(f\"Intersection of dept_a and dept_b: {intersection_ab}\")\n",
    "print(f\"Intersection of dept_a and dept_c: {intersection_ac}\")\n",
    "print(f\"Intersection of dept_b and dept_c: {intersection_bc}\")\n",
    "\n",
    "print(f\"Union of all departments: {union_all}\")\n",
    "print(f\"Union of dept_a and dept_b: {union_ab}\")\n",
    "print(f\"Union of dept_a and dept_c: {union_ac}\")\n",
    "print(f\"Union of dept_b and dept_c: {union_bc}\")"
   ]
  },
  {
   "cell_type": "markdown",
   "id": "0a6af0b7",
   "metadata": {},
   "source": [
    "## List Comprehension"
   ]
  },
  {
   "cell_type": "markdown",
   "id": "f5f20426",
   "metadata": {},
   "source": [
    "new_list = [expression for item in iterable if condition]"
   ]
  }
 ],
 "metadata": {
  "kernelspec": {
   "display_name": "base",
   "language": "python",
   "name": "python3"
  },
  "language_info": {
   "codemirror_mode": {
    "name": "ipython",
    "version": 3
   },
   "file_extension": ".py",
   "mimetype": "text/x-python",
   "name": "python",
   "nbconvert_exporter": "python",
   "pygments_lexer": "ipython3",
   "version": "3.12.4"
  }
 },
 "nbformat": 4,
 "nbformat_minor": 5
}
